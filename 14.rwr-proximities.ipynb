{
 "cells": [
  {
   "cell_type": "markdown",
   "metadata": {},
   "source": [
    "# Generate all-to-all proximities using random walk with restart"
   ]
  },
  {
   "cell_type": "code",
   "execution_count": null,
   "metadata": {},
   "outputs": [],
   "source": [
    "import numpy as np\n",
    "import scipy.sparse\n",
    "import sknetwork as skn"
   ]
  },
  {
   "cell_type": "code",
   "execution_count": null,
   "metadata": {},
   "outputs": [],
   "source": [
    "matrix = scipy.sparse.load_npz(\"data/score-matrices/combined_score.sparse.npz\")\n",
    "matrix = matrix / 1000  # rescale STRING scores to be from 0 to 1"
   ]
  },
  {
   "cell_type": "code",
   "execution_count": null,
   "metadata": {},
   "outputs": [],
   "source": [
    "def get_rwr_scores(seeds):\n",
    "    pagerank = skn.ranking.PageRank(damping_factor=0.85)\n",
    "    np.random.seed(0)  # set seed in case there is some non-determinism\n",
    "    scores = pagerank.fit_transform(adjacency=matrix, seeds=seeds)\n",
    "    scores /= scores.mean()  # rescale scores to have a mean of 1\n",
    "    return scores"
   ]
  },
  {
   "cell_type": "code",
   "execution_count": null,
   "metadata": {},
   "outputs": [],
   "source": [
    "nrows = matrix.shape[0]\n",
    "nrows"
   ]
  },
  {
   "cell_type": "code",
   "execution_count": null,
   "metadata": {},
   "outputs": [],
   "source": [
    "null_scores = get_rwr_scores(seeds=np.ones(nrows))\n",
    "null_scores"
   ]
  },
  {
   "cell_type": "code",
   "execution_count": null,
   "metadata": {},
   "outputs": [],
   "source": [
    "%%time\n",
    "rwr_matrix = np.zeros(matrix.shape)\n",
    "for i in range(nrows):\n",
    "    scores = get_rwr_scores(seeds={i: 1.0})\n",
    "    scores -= null_scores  # adjust scores for null scores\n",
    "    rwr_matrix[i] = scores  # set values in row i to contain scores\n",
    "rwr_matrix"
   ]
  },
  {
   "cell_type": "code",
   "execution_count": null,
   "metadata": {},
   "outputs": [],
   "source": [
    "# density of score matrix\n",
    "np.count_nonzero(rwr_matrix) / rwr_matrix.size"
   ]
  }
 ],
 "metadata": {
  "kernelspec": {
   "display_name": "Python 3",
   "language": "python",
   "name": "python3"
  },
  "language_info": {
   "codemirror_mode": {
    "name": "ipython",
    "version": 3
   },
   "file_extension": ".py",
   "mimetype": "text/x-python",
   "name": "python",
   "nbconvert_exporter": "python",
   "pygments_lexer": "ipython3",
   "version": "3.8.2"
  }
 },
 "nbformat": 4,
 "nbformat_minor": 4
}
