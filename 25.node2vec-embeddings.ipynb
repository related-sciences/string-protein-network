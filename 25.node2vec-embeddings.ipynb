{
 "cells": [
  {
   "cell_type": "markdown",
   "metadata": {},
   "source": [
    "# Create STRING embeddings using [node2vec](https://snap.stanford.edu/node2vec/)\n",
    "\n",
    "node2vec method described in\n",
    "\n",
    "> **node2vec: Scalable Feature Learning for Networks**  \n",
    "Aditya Grover, Jure Leskovec  \n",
    "*Proceedings of the 22nd ACM SIGKDD International Conference on Knowledge Discovery and Data Mining - KDD ’16* (2016) <https://doi.org/gftdzj>  \n",
    "DOI: [10.1145/2939672.2939754](https://doi.org/10.1145/2939672.2939754) · PMID: [27853626](https://www.ncbi.nlm.nih.gov/pubmed/27853626) · PMCID: [PMC5108654](https://www.ncbi.nlm.nih.gov/pmc/articles/PMC5108654)\n"
   ]
  },
  {
   "cell_type": "code",
   "execution_count": 4,
   "metadata": {},
   "outputs": [],
   "source": [
    "import pathlib\n",
    "import csv\n",
    "\n",
    "import pandas as pd\n",
    "import numpy as np\n",
    "import scipy.sparse\n",
    "import networkx as nx\n",
    "\n",
    "from utils import get_string_dataset_path"
   ]
  },
  {
   "cell_type": "code",
   "execution_count": 5,
   "metadata": {},
   "outputs": [],
   "source": [
    "# edgelist export parameters\n",
    "score_threshold = 0.0\n",
    "edgelist_path = \"data/score-edgelists/combined-score.edgelist.tsv\"\n",
    "\n",
    "# node2vec parameters\n",
    "n_dimensions = 128\n",
    "raw_embeddings_path = f\"data/embeddings/node2vec-{n_dimensions}d.txt\"\n",
    "embeddings_path = f\"data/embeddings/node2vec-{n_dimensions}d.tsv.xz\"\n",
    "\n",
    "# if True, only run on a susbset of the network\n",
    "development = False"
   ]
  },
  {
   "cell_type": "markdown",
   "metadata": {},
   "source": [
    "## Read network and convert to edgelist format\n",
    "\n",
    "The edgelist format is not well defined. The following resources provide some documentation:\n",
    "\n",
    "- https://github.com/aditya-grover/node2vec/blob/master/node2vec_spark/README.md\n",
    "- https://github.com/snap-stanford/snap/issues/161#issuecomment-546146427\n",
    "- https://networkx.github.io/documentation/stable/reference/readwrite/edgelist.html"
   ]
  },
  {
   "cell_type": "code",
   "execution_count": 3,
   "metadata": {},
   "outputs": [
    {
     "name": "stdout",
     "output_type": "stream",
     "text": [
      "CPU times: user 436 ms, sys: 7.91 ms, total: 444 ms\n",
      "Wall time: 444 ms\n"
     ]
    }
   ],
   "source": [
    "%%time\n",
    "matrix = scipy.sparse.load_npz(\"data/score-matrices/combined_score.sparse.npz\")\n",
    "if development:\n",
    "    n_nodes = 2000\n",
    "    matrix = matrix[:n_nodes, :n_nodes] # subset matrix for development"
   ]
  },
  {
   "cell_type": "code",
   "execution_count": 4,
   "metadata": {},
   "outputs": [],
   "source": [
    "def generate_nonzero_values(matrix: scipy.sparse.spmatrix, score_threshold=0.0, one_index=False):\n",
    "    \"\"\"\n",
    "    Return an iterator of (row_index: int, col_index: int, score: int) tuples\n",
    "    one_index adds 1 to row and col indices for compatability with node2vec,\n",
    "    which possibility requires node ids to start at 1 for directed graphs.\n",
    "    See https://github.com/snap-stanford/snap/issues/161#issuecomment-546146427\n",
    "    \"\"\"\n",
    "    coo = matrix.tocoo()\n",
    "    # take upper triangle since matrix is symmetric with a zero diagonal\n",
    "    coo = scipy.sparse.triu(coo)\n",
    "    print(f\"{sum(coo.data >= score_threshold):,} edges above threshold\")\n",
    "    for row, col, score in zip(coo.row, coo.col, coo.data):\n",
    "        if score < score_threshold:\n",
    "            continue\n",
    "        if one_index:\n",
    "            row += 1\n",
    "            col += 1\n",
    "        yield row, col, score\n",
    "\n",
    "\n",
    "def write_edgelist(edge_tuples, path):\n",
    "    \"\"\"\n",
    "    Write edge_tuples (from generate_nonzero_values) to a .edgelist.tsv file.\n",
    "    This file format is not well documented or standardized. This function\n",
    "    does not write a header.\n",
    "    \"\"\"\n",
    "    with pathlib.Path(path).open(\"w\") as write_file:\n",
    "        writer = csv.writer(write_file, delimiter=\"\\t\")\n",
    "        writer.writerows(edge_tuples)"
   ]
  },
  {
   "cell_type": "code",
   "execution_count": 5,
   "metadata": {},
   "outputs": [
    {
     "name": "stdout",
     "output_type": "stream",
     "text": [
      "5,879,727 edges above threshold\n",
      "CPU times: user 31.4 s, sys: 284 ms, total: 31.7 s\n",
      "Wall time: 31.7 s\n"
     ]
    }
   ],
   "source": [
    "%%time\n",
    "edge_tuples = generate_nonzero_values(matrix, score_threshold=score_threshold, one_index=False)\n",
    "write_edgelist(edge_tuples, edgelist_path)"
   ]
  },
  {
   "cell_type": "markdown",
   "metadata": {},
   "source": [
    "## Run node2vec command\n",
    "\n",
    "node2vec CLI documentation:\n",
    "\n",
    "```\n",
    "An algorithmic framework for representational learning on graphs. [Aug 29 2019]\n",
    "================================================================================\n",
    "Input graph path (-i:)=graph/karate.edgelist\n",
    "Output graph path (-o:)=emb/karate.emb\n",
    "Number of dimensions. Default is 128 (-d:)=128\n",
    "Length of walk per source. Default is 80 (-l:)=80\n",
    "Number of walks per source. Default is 10 (-r:)=10\n",
    "Context size for optimization. Default is 10 (-k:)=10\n",
    "Number of epochs in SGD. Default is 1 (-e:)=1\n",
    "Return hyperparameter. Default is 1 (-p:)=1\n",
    "Inout hyperparameter. Default is 1 (-q:)=1\n",
    "Verbose output. (-v)=NO\n",
    "Graph is directed. (-dr)=NO\n",
    "Graph is weighted. (-w)=NO\n",
    "Output random walks instead of embeddings. (-ow)=NO\n",
    "```\n",
    "\n",
    "For node2vec installation via snap on Linux, [see this commit](https://github.com/related-sciences/string-protein-network/commit/4d02d6ce11c792758a1ee82419e2bd6f789617a3). Note that the `node2vec` command can be \"killed\" when system resources are insufficient ([see issue](https://github.com/snap-stanford/snap/issues/188))."
   ]
  },
  {
   "cell_type": "code",
   "execution_count": 6,
   "metadata": {},
   "outputs": [
    {
     "name": "stdout",
     "output_type": "stream",
     "text": [
      "node2vec \\\n",
      "  -i:data/score-edgelists/combined-score.edgelist.tsv \\\n",
      "  -o:data/embeddings/node2vec-128d.txt \\\n",
      "  -d:128 -w -v\n"
     ]
    }
   ],
   "source": [
    "# interpolate command\n",
    "command = f'''\n",
    "node2vec \\\\\n",
    "  -i:{edgelist_path} \\\\\n",
    "  -o:{raw_embeddings_path} \\\\\n",
    "  -d:{n_dimensions} -w -v\n",
    "'''.strip()\n",
    "print(command)"
   ]
  },
  {
   "cell_type": "code",
   "execution_count": null,
   "metadata": {
    "scrolled": true
   },
   "outputs": [
    {
     "name": "stdout",
     "output_type": "stream",
     "text": [
      "\n",
      "An algorithmic framework for representational learning on graphs. [Aug 29 2019]\n",
      "================================================================================\n",
      "Input graph path (-i:)=data/score-edgelists/combined-score.edgelist.tsv\n",
      "Output graph path (-o:)=data/embeddings/node2vec-128d.txt\n",
      "Number of dimensions. Default is 128 (-d:)=128\n",
      "Length of walk per source. Default is 80 (-l:)=80\n",
      "Number of walks per source. Default is 10 (-r:)=10\n",
      "Context size for optimization. Default is 10 (-k:)=10\n",
      "Number of epochs in SGD. Default is 1 (-e:)=1\n",
      "Return hyperparameter. Default is 1 (-p:)=1\n",
      "Inout hyperparameter. Default is 1 (-q:)=1\n",
      "Verbose output. (-v)=YES\n",
      "Graph is directed. (-dr)=NO\n",
      "Graph is weighted. (-w)=YES\n",
      "Output random walks instead of embeddings. (-ow)=NO\n",
      "Read 5879727 lines from data/score-edgelists/combined-score.edgelist.tsv\n"
     ]
    }
   ],
   "source": [
    "%%time\n",
    "# execute the command with a system call\n",
    "! {command}"
   ]
  },
  {
   "cell_type": "markdown",
   "metadata": {},
   "source": [
    "### Tidy embeddings\n",
    "\n",
    "Read embeddings and rewrite them in a cleaner format.\n",
    "See [issue on file format](https://github.com/snap-stanford/snap/issues/192)."
   ]
  },
  {
   "cell_type": "code",
   "execution_count": 6,
   "metadata": {},
   "outputs": [
    {
     "data": {
      "text/html": [
       "<div>\n",
       "<style scoped>\n",
       "    .dataframe tbody tr th:only-of-type {\n",
       "        vertical-align: middle;\n",
       "    }\n",
       "\n",
       "    .dataframe tbody tr th {\n",
       "        vertical-align: top;\n",
       "    }\n",
       "\n",
       "    .dataframe thead th {\n",
       "        text-align: right;\n",
       "    }\n",
       "</style>\n",
       "<table border=\"1\" class=\"dataframe\">\n",
       "  <thead>\n",
       "    <tr style=\"text-align: right;\">\n",
       "      <th></th>\n",
       "      <th>index</th>\n",
       "      <th>protein_external_id</th>\n",
       "      <th>preferred_name</th>\n",
       "      <th>protein_size</th>\n",
       "      <th>annotation</th>\n",
       "    </tr>\n",
       "  </thead>\n",
       "  <tbody>\n",
       "    <tr>\n",
       "      <th>19564</th>\n",
       "      <td>19564</td>\n",
       "      <td>9606.ENSP00000485675</td>\n",
       "      <td>ENSG00000280116</td>\n",
       "      <td>84</td>\n",
       "      <td>annotation not available</td>\n",
       "    </tr>\n",
       "    <tr>\n",
       "      <th>19565</th>\n",
       "      <td>19565</td>\n",
       "      <td>9606.ENSP00000485678</td>\n",
       "      <td>OR6Q1</td>\n",
       "      <td>317</td>\n",
       "      <td>Olfactory receptor 6Q1; Odorant receptor; Olfa...</td>\n",
       "    </tr>\n",
       "  </tbody>\n",
       "</table>\n",
       "</div>"
      ],
      "text/plain": [
       "       index   protein_external_id   preferred_name  protein_size  \\\n",
       "19564  19564  9606.ENSP00000485675  ENSG00000280116            84   \n",
       "19565  19565  9606.ENSP00000485678            OR6Q1           317   \n",
       "\n",
       "                                              annotation  \n",
       "19564                           annotation not available  \n",
       "19565  Olfactory receptor 6Q1; Odorant receptor; Olfa...  "
      ]
     },
     "execution_count": 6,
     "metadata": {},
     "output_type": "execute_result"
    }
   ],
   "source": [
    "# Show the head of protein info\n",
    "gene_path = get_string_dataset_path(\"protein.info\")\n",
    "gene_df = pd.read_csv(gene_path, sep='\\t')\n",
    "gene_df = gene_df.reset_index()\n",
    "index_to_name = gene_df.set_index('index')['preferred_name'].to_dict()\n",
    "gene_df.tail(2)"
   ]
  },
  {
   "cell_type": "code",
   "execution_count": 7,
   "metadata": {},
   "outputs": [
    {
     "data": {
      "text/html": [
       "<div>\n",
       "<style scoped>\n",
       "    .dataframe tbody tr th:only-of-type {\n",
       "        vertical-align: middle;\n",
       "    }\n",
       "\n",
       "    .dataframe tbody tr th {\n",
       "        vertical-align: top;\n",
       "    }\n",
       "\n",
       "    .dataframe thead th {\n",
       "        text-align: right;\n",
       "    }\n",
       "</style>\n",
       "<table border=\"1\" class=\"dataframe\">\n",
       "  <thead>\n",
       "    <tr style=\"text-align: right;\">\n",
       "      <th></th>\n",
       "      <th></th>\n",
       "      <th>emb_1</th>\n",
       "      <th>emb_2</th>\n",
       "      <th>emb_3</th>\n",
       "      <th>emb_4</th>\n",
       "      <th>emb_5</th>\n",
       "      <th>emb_6</th>\n",
       "      <th>emb_7</th>\n",
       "      <th>emb_8</th>\n",
       "      <th>emb_9</th>\n",
       "      <th>emb_10</th>\n",
       "      <th>...</th>\n",
       "      <th>emb_119</th>\n",
       "      <th>emb_120</th>\n",
       "      <th>emb_121</th>\n",
       "      <th>emb_122</th>\n",
       "      <th>emb_123</th>\n",
       "      <th>emb_124</th>\n",
       "      <th>emb_125</th>\n",
       "      <th>emb_126</th>\n",
       "      <th>emb_127</th>\n",
       "      <th>emb_128</th>\n",
       "    </tr>\n",
       "    <tr>\n",
       "      <th>node_id</th>\n",
       "      <th>preferred_name</th>\n",
       "      <th></th>\n",
       "      <th></th>\n",
       "      <th></th>\n",
       "      <th></th>\n",
       "      <th></th>\n",
       "      <th></th>\n",
       "      <th></th>\n",
       "      <th></th>\n",
       "      <th></th>\n",
       "      <th></th>\n",
       "      <th></th>\n",
       "      <th></th>\n",
       "      <th></th>\n",
       "      <th></th>\n",
       "      <th></th>\n",
       "      <th></th>\n",
       "      <th></th>\n",
       "      <th></th>\n",
       "      <th></th>\n",
       "      <th></th>\n",
       "      <th></th>\n",
       "    </tr>\n",
       "  </thead>\n",
       "  <tbody>\n",
       "    <tr>\n",
       "      <th>0</th>\n",
       "      <th>ARF5</th>\n",
       "      <td>0.495522</td>\n",
       "      <td>-0.264478</td>\n",
       "      <td>0.383956</td>\n",
       "      <td>-1.48516</td>\n",
       "      <td>1.13501</td>\n",
       "      <td>-0.687379</td>\n",
       "      <td>-0.092868</td>\n",
       "      <td>-0.428224</td>\n",
       "      <td>-0.148345</td>\n",
       "      <td>-0.028783</td>\n",
       "      <td>...</td>\n",
       "      <td>-0.002594</td>\n",
       "      <td>0.308740</td>\n",
       "      <td>-0.062943</td>\n",
       "      <td>0.140117</td>\n",
       "      <td>0.177642</td>\n",
       "      <td>0.132789</td>\n",
       "      <td>0.032162</td>\n",
       "      <td>0.093262</td>\n",
       "      <td>-0.260608</td>\n",
       "      <td>0.014748</td>\n",
       "    </tr>\n",
       "    <tr>\n",
       "      <th>1</th>\n",
       "      <th>M6PR</th>\n",
       "      <td>0.371978</td>\n",
       "      <td>-0.189449</td>\n",
       "      <td>0.336587</td>\n",
       "      <td>-1.45652</td>\n",
       "      <td>1.08911</td>\n",
       "      <td>-0.992916</td>\n",
       "      <td>-0.500337</td>\n",
       "      <td>-0.429294</td>\n",
       "      <td>0.179531</td>\n",
       "      <td>-0.128398</td>\n",
       "      <td>...</td>\n",
       "      <td>-0.213474</td>\n",
       "      <td>-0.102929</td>\n",
       "      <td>0.170698</td>\n",
       "      <td>-0.014626</td>\n",
       "      <td>0.150232</td>\n",
       "      <td>0.078505</td>\n",
       "      <td>0.129128</td>\n",
       "      <td>0.193226</td>\n",
       "      <td>-0.458337</td>\n",
       "      <td>0.285326</td>\n",
       "    </tr>\n",
       "    <tr>\n",
       "      <th>2</th>\n",
       "      <th>FKBP4</th>\n",
       "      <td>0.325708</td>\n",
       "      <td>-0.233374</td>\n",
       "      <td>0.253502</td>\n",
       "      <td>-1.38490</td>\n",
       "      <td>1.19367</td>\n",
       "      <td>-0.764975</td>\n",
       "      <td>-0.272214</td>\n",
       "      <td>-0.360279</td>\n",
       "      <td>-0.172938</td>\n",
       "      <td>-0.213736</td>\n",
       "      <td>...</td>\n",
       "      <td>0.070447</td>\n",
       "      <td>0.177522</td>\n",
       "      <td>-0.123333</td>\n",
       "      <td>0.123212</td>\n",
       "      <td>0.028557</td>\n",
       "      <td>0.069089</td>\n",
       "      <td>0.197630</td>\n",
       "      <td>-0.030261</td>\n",
       "      <td>-0.049011</td>\n",
       "      <td>0.036173</td>\n",
       "    </tr>\n",
       "  </tbody>\n",
       "</table>\n",
       "<p>3 rows × 128 columns</p>\n",
       "</div>"
      ],
      "text/plain": [
       "                           emb_1     emb_2     emb_3    emb_4    emb_5  \\\n",
       "node_id preferred_name                                                   \n",
       "0       ARF5            0.495522 -0.264478  0.383956 -1.48516  1.13501   \n",
       "1       M6PR            0.371978 -0.189449  0.336587 -1.45652  1.08911   \n",
       "2       FKBP4           0.325708 -0.233374  0.253502 -1.38490  1.19367   \n",
       "\n",
       "                           emb_6     emb_7     emb_8     emb_9    emb_10  ...  \\\n",
       "node_id preferred_name                                                    ...   \n",
       "0       ARF5           -0.687379 -0.092868 -0.428224 -0.148345 -0.028783  ...   \n",
       "1       M6PR           -0.992916 -0.500337 -0.429294  0.179531 -0.128398  ...   \n",
       "2       FKBP4          -0.764975 -0.272214 -0.360279 -0.172938 -0.213736  ...   \n",
       "\n",
       "                         emb_119   emb_120   emb_121   emb_122   emb_123  \\\n",
       "node_id preferred_name                                                     \n",
       "0       ARF5           -0.002594  0.308740 -0.062943  0.140117  0.177642   \n",
       "1       M6PR           -0.213474 -0.102929  0.170698 -0.014626  0.150232   \n",
       "2       FKBP4           0.070447  0.177522 -0.123333  0.123212  0.028557   \n",
       "\n",
       "                         emb_124   emb_125   emb_126   emb_127   emb_128  \n",
       "node_id preferred_name                                                    \n",
       "0       ARF5            0.132789  0.032162  0.093262 -0.260608  0.014748  \n",
       "1       M6PR            0.078505  0.129128  0.193226 -0.458337  0.285326  \n",
       "2       FKBP4           0.069089  0.197630 -0.030261 -0.049011  0.036173  \n",
       "\n",
       "[3 rows x 128 columns]"
      ]
     },
     "execution_count": 7,
     "metadata": {},
     "output_type": "execute_result"
    }
   ],
   "source": [
    "embedding_df = (\n",
    "    pd.read_csv(raw_embeddings_path, sep=\" \", skiprows=1, index_col=0, header=None)\n",
    "    .rename_axis(index=\"node_id\")\n",
    "    .add_prefix(\"emb_\")\n",
    "    .sort_index()\n",
    ")\n",
    "embedding_df[\"preferred_name\"] = embedding_df.index.map(index_to_name)\n",
    "embedding_df = embedding_df.set_index(\"preferred_name\", append=True)\n",
    "embedding_df.head(3)"
   ]
  },
  {
   "cell_type": "code",
   "execution_count": 8,
   "metadata": {},
   "outputs": [
    {
     "data": {
      "text/plain": [
       "19354"
      ]
     },
     "execution_count": 8,
     "metadata": {},
     "output_type": "execute_result"
    }
   ],
   "source": [
    "len(embedding_df)"
   ]
  },
  {
   "cell_type": "code",
   "execution_count": 9,
   "metadata": {},
   "outputs": [],
   "source": [
    "embedding_df.to_csv(embeddings_path, sep=\"\\t\", float_format=\"%.6g\")"
   ]
  },
  {
   "cell_type": "markdown",
   "metadata": {},
   "source": [
    "## Plot first 2 embeddings"
   ]
  },
  {
   "cell_type": "code",
   "execution_count": 10,
   "metadata": {},
   "outputs": [
    {
     "data": {
      "image/png": "[encoded data removed]",
      "text/plain": [
       "<Figure size 432x288 with 1 Axes>"
      ]
     },
     "metadata": {
      "needs_background": "light"
     },
     "output_type": "display_data"
    }
   ],
   "source": [
    "import seaborn\n",
    "%matplotlib inline\n",
    "seaborn.scatterplot(\"emb_1\", \"emb_2\", data=embedding_df, alpha=0.1);"
   ]
  }
 ],
 "metadata": {
  "kernelspec": {
   "display_name": "Python 3",
   "language": "python",
   "name": "python3"
  },
  "language_info": {
   "codemirror_mode": {
    "name": "ipython",
    "version": 3
   },
   "file_extension": ".py",
   "mimetype": "text/x-python",
   "name": "python",
   "nbconvert_exporter": "python",
   "pygments_lexer": "ipython3",
   "version": "3.8.2"
  }
 },
 "nbformat": 4,
 "nbformat_minor": 4
}
