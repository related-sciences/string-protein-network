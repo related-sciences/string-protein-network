{
 "cells": [
  {
   "cell_type": "markdown",
   "metadata": {},
   "source": [
    "# Create STRING embeddings using [node2vec](https://snap.stanford.edu/node2vec/)\n",
    "\n",
    "node2vec method described in\n",
    "\n",
    "> **node2vec: Scalable Feature Learning for Networks**  \n",
    "Aditya Grover, Jure Leskovec  \n",
    "*Proceedings of the 22nd ACM SIGKDD International Conference on Knowledge Discovery and Data Mining - KDD ’16* (2016) <https://doi.org/gftdzj>  \n",
    "DOI: [10.1145/2939672.2939754](https://doi.org/10.1145/2939672.2939754) · PMID: [27853626](https://www.ncbi.nlm.nih.gov/pubmed/27853626) · PMCID: [PMC5108654](https://www.ncbi.nlm.nih.gov/pmc/articles/PMC5108654)\n"
   ]
  },
  {
   "cell_type": "code",
   "execution_count": 1,
   "metadata": {},
   "outputs": [],
   "source": [
    "import pathlib\n",
    "import csv\n",
    "\n",
    "import pandas as pd\n",
    "import numpy as np\n",
    "import scipy.sparse\n",
    "import networkx as nx\n",
    "\n",
    "from utils import get_string_dataset_path"
   ]
  },
  {
   "cell_type": "code",
   "execution_count": 2,
   "metadata": {},
   "outputs": [],
   "source": [
    "# edgelist export parameters\n",
    "score_threshold = 0.0\n",
    "edgelist_path = \"data/score-edgelists/combined-score.edgelist.tsv\"\n",
    "\n",
    "# node2vec parameters\n",
    "n_dimensions = 2\n",
    "raw_embeddings_path = f\"data/embeddings/node2vec-{n_dimensions}d.txt\"\n",
    "embeddings_path = f\"data/embeddings/node2vec-{n_dimensions}d.tsv.xz\"\n",
    "\n",
    "# if True, only run on a susbset of the network\n",
    "development = True"
   ]
  },
  {
   "cell_type": "markdown",
   "metadata": {},
   "source": [
    "## Read network and convert to edgelist format\n",
    "\n",
    "The edgelist format is not well defined. The following resources provide some documentation:\n",
    "\n",
    "- https://github.com/aditya-grover/node2vec/blob/master/node2vec_spark/README.md\n",
    "- https://github.com/snap-stanford/snap/issues/161#issuecomment-546146427\n",
    "- https://networkx.github.io/documentation/stable/reference/readwrite/edgelist.html"
   ]
  },
  {
   "cell_type": "code",
   "execution_count": 3,
   "metadata": {},
   "outputs": [
    {
     "name": "stdout",
     "output_type": "stream",
     "text": [
      "CPU times: user 747 ms, sys: 17 ms, total: 764 ms\n",
      "Wall time: 763 ms\n"
     ]
    }
   ],
   "source": [
    "%%time\n",
    "matrix = scipy.sparse.load_npz(\"data/score-matrices/combined_score.sparse.npz\")\n",
    "if development:\n",
    "    n_nodes = 2000\n",
    "    matrix = matrix[:n_nodes, :n_nodes] # subset matrix for development"
   ]
  },
  {
   "cell_type": "code",
   "execution_count": 4,
   "metadata": {},
   "outputs": [],
   "source": [
    "def generate_nonzero_values(matrix: scipy.sparse.spmatrix, score_threshold=0.0, one_index=False):\n",
    "    \"\"\"\n",
    "    Return an iterator of (row_index: int, col_index: int, score: int) tuples\n",
    "    one_index adds 1 to row and col indices for compatability with node2vec,\n",
    "    which possibility requires node ids to start at 1 for directed graphs.\n",
    "    See https://github.com/snap-stanford/snap/issues/161#issuecomment-546146427\n",
    "    \"\"\"\n",
    "    coo = matrix.tocoo()\n",
    "    # take upper triangle since matrix is symmetric with a zero diagonal\n",
    "    coo = scipy.sparse.triu(coo)\n",
    "    print(f\"{sum(coo.data >= score_threshold):,} edges above threshold\")\n",
    "    for row, col, score in zip(coo.row, coo.col, coo.data):\n",
    "        if score < score_threshold:\n",
    "            continue\n",
    "        if one_index:\n",
    "            row += 1\n",
    "            col += 1\n",
    "        yield row, col, score\n",
    "\n",
    "\n",
    "def write_edgelist(edge_tuples, path):\n",
    "    \"\"\"\n",
    "    Write edge_tuples (from generate_nonzero_values) to a .edgelist.tsv file.\n",
    "    This file format is not well documented or standardized. This function\n",
    "    does not write a header.\n",
    "    \"\"\"\n",
    "    with pathlib.Path(path).open(\"w\") as write_file:\n",
    "        writer = csv.writer(write_file, delimiter=\"\\t\")\n",
    "        writer.writerows(edge_tuples)"
   ]
  },
  {
   "cell_type": "code",
   "execution_count": 5,
   "metadata": {},
   "outputs": [
    {
     "name": "stdout",
     "output_type": "stream",
     "text": [
      "87,986 edges above threshold\n",
      "CPU times: user 899 ms, sys: 16.9 ms, total: 916 ms\n",
      "Wall time: 913 ms\n"
     ]
    }
   ],
   "source": [
    "%%time\n",
    "edge_tuples = generate_nonzero_values(matrix, score_threshold=score_threshold, one_index=False)\n",
    "write_edgelist(edge_tuples, edgelist_path)"
   ]
  },
  {
   "cell_type": "markdown",
   "metadata": {},
   "source": [
    "## Run node2vec command\n",
    "\n",
    "node2vec CLI documentation:\n",
    "\n",
    "```\n",
    "An algorithmic framework for representational learning on graphs. [Aug 29 2019]\n",
    "================================================================================\n",
    "Input graph path (-i:)=graph/karate.edgelist\n",
    "Output graph path (-o:)=emb/karate.emb\n",
    "Number of dimensions. Default is 128 (-d:)=128\n",
    "Length of walk per source. Default is 80 (-l:)=80\n",
    "Number of walks per source. Default is 10 (-r:)=10\n",
    "Context size for optimization. Default is 10 (-k:)=10\n",
    "Number of epochs in SGD. Default is 1 (-e:)=1\n",
    "Return hyperparameter. Default is 1 (-p:)=1\n",
    "Inout hyperparameter. Default is 1 (-q:)=1\n",
    "Verbose output. (-v)=NO\n",
    "Graph is directed. (-dr)=NO\n",
    "Graph is weighted. (-w)=NO\n",
    "Output random walks instead of embeddings. (-ow)=NO\n",
    "```\n",
    "\n",
    "For node2vec installation via snap on Linux, [see this commit](https://github.com/related-sciences/string-protein-network/commit/4d02d6ce11c792758a1ee82419e2bd6f789617a3). Note that the `node2vec` command can be \"killed\" when system resources are insufficient ([see issue](https://github.com/snap-stanford/snap/issues/188))."
   ]
  },
  {
   "cell_type": "code",
   "execution_count": 6,
   "metadata": {},
   "outputs": [
    {
     "name": "stdout",
     "output_type": "stream",
     "text": [
      "node2vec \\\n",
      "  -i:data/score-edgelists/combined-score.edgelist.tsv \\\n",
      "  -o:data/embeddings/node2vec-2d.txt \\\n",
      "  -d:2 -w -v\n"
     ]
    }
   ],
   "source": [
    "# interpolate command\n",
    "command = f'''\n",
    "node2vec \\\\\n",
    "  -i:{edgelist_path} \\\\\n",
    "  -o:{raw_embeddings_path} \\\\\n",
    "  -d:{n_dimensions} -w -v\n",
    "'''.strip()\n",
    "print(command)"
   ]
  },
  {
   "cell_type": "code",
   "execution_count": 7,
   "metadata": {
    "scrolled": true
   },
   "outputs": [
    {
     "name": "stdout",
     "output_type": "stream",
     "text": [
      "\n",
      "An algorithmic framework for representational learning on graphs. [Aug 29 2019]\n",
      "================================================================================\n",
      "Input graph path (-i:)=data/score-edgelists/combined-score.edgelist.tsv\n",
      "Output graph path (-o:)=data/embeddings/node2vec-2d.txt\n",
      "Number of dimensions. Default is 128 (-d:)=2\n",
      "Length of walk per source. Default is 80 (-l:)=80\n",
      "Number of walks per source. Default is 10 (-r:)=10\n",
      "Context size for optimization. Default is 10 (-k:)=10\n",
      "Number of epochs in SGD. Default is 1 (-e:)=1\n",
      "Return hyperparameter. Default is 1 (-p:)=1\n",
      "Inout hyperparameter. Default is 1 (-q:)=1\n",
      "Verbose output. (-v)=YES\n",
      "Graph is directed. (-dr)=NO\n",
      "Graph is weighted. (-w)=YES\n",
      "Output random walks instead of embeddings. (-ow)=NO\n",
      "Read 87986 lines from data/score-edgelists/combined-score.edgelist.tsv\n",
      "Preprocessing progress: 95.29% \n",
      "Walking Progress: 50.15%\n",
      "Learning Progress: 93.41% \n"
     ]
    }
   ],
   "source": [
    "# execute the command with a system call\n",
    "! {command}"
   ]
  },
  {
   "cell_type": "markdown",
   "metadata": {},
   "source": [
    "### Tidy embeddings\n",
    "\n",
    "Read embeddings and rewrite them in a cleaner format.\n",
    "See [issue on file format](https://github.com/snap-stanford/snap/issues/192)."
   ]
  },
  {
   "cell_type": "code",
   "execution_count": 8,
   "metadata": {},
   "outputs": [
    {
     "data": {
      "text/html": [
       "<div>\n",
       "<style scoped>\n",
       "    .dataframe tbody tr th:only-of-type {\n",
       "        vertical-align: middle;\n",
       "    }\n",
       "\n",
       "    .dataframe tbody tr th {\n",
       "        vertical-align: top;\n",
       "    }\n",
       "\n",
       "    .dataframe thead th {\n",
       "        text-align: right;\n",
       "    }\n",
       "</style>\n",
       "<table border=\"1\" class=\"dataframe\">\n",
       "  <thead>\n",
       "    <tr style=\"text-align: right;\">\n",
       "      <th></th>\n",
       "      <th>index</th>\n",
       "      <th>protein_external_id</th>\n",
       "      <th>preferred_name</th>\n",
       "      <th>protein_size</th>\n",
       "      <th>annotation</th>\n",
       "    </tr>\n",
       "  </thead>\n",
       "  <tbody>\n",
       "    <tr>\n",
       "      <th>19564</th>\n",
       "      <td>19564</td>\n",
       "      <td>9606.ENSP00000485675</td>\n",
       "      <td>ENSG00000280116</td>\n",
       "      <td>84</td>\n",
       "      <td>annotation not available</td>\n",
       "    </tr>\n",
       "    <tr>\n",
       "      <th>19565</th>\n",
       "      <td>19565</td>\n",
       "      <td>9606.ENSP00000485678</td>\n",
       "      <td>OR6Q1</td>\n",
       "      <td>317</td>\n",
       "      <td>Olfactory receptor 6Q1; Odorant receptor; Olfa...</td>\n",
       "    </tr>\n",
       "  </tbody>\n",
       "</table>\n",
       "</div>"
      ],
      "text/plain": [
       "       index   protein_external_id   preferred_name  protein_size  \\\n",
       "19564  19564  9606.ENSP00000485675  ENSG00000280116            84   \n",
       "19565  19565  9606.ENSP00000485678            OR6Q1           317   \n",
       "\n",
       "                                              annotation  \n",
       "19564                           annotation not available  \n",
       "19565  Olfactory receptor 6Q1; Odorant receptor; Olfa...  "
      ]
     },
     "execution_count": 8,
     "metadata": {},
     "output_type": "execute_result"
    }
   ],
   "source": [
    "# Show the head of protein info\n",
    "gene_path = get_string_dataset_path(\"protein.info\")\n",
    "gene_df = pd.read_csv(gene_path, sep='\\t')\n",
    "gene_df = gene_df.reset_index()\n",
    "index_to_name = gene_df.set_index('index')['preferred_name'].to_dict()\n",
    "gene_df.tail(2)"
   ]
  },
  {
   "cell_type": "code",
   "execution_count": 9,
   "metadata": {},
   "outputs": [
    {
     "data": {
      "text/html": [
       "<div>\n",
       "<style scoped>\n",
       "    .dataframe tbody tr th:only-of-type {\n",
       "        vertical-align: middle;\n",
       "    }\n",
       "\n",
       "    .dataframe tbody tr th {\n",
       "        vertical-align: top;\n",
       "    }\n",
       "\n",
       "    .dataframe thead th {\n",
       "        text-align: right;\n",
       "    }\n",
       "</style>\n",
       "<table border=\"1\" class=\"dataframe\">\n",
       "  <thead>\n",
       "    <tr style=\"text-align: right;\">\n",
       "      <th></th>\n",
       "      <th></th>\n",
       "      <th>emb_1</th>\n",
       "      <th>emb_2</th>\n",
       "    </tr>\n",
       "    <tr>\n",
       "      <th>node_id</th>\n",
       "      <th>preferred_name</th>\n",
       "      <th></th>\n",
       "      <th></th>\n",
       "    </tr>\n",
       "  </thead>\n",
       "  <tbody>\n",
       "    <tr>\n",
       "      <th>0</th>\n",
       "      <th>ARF5</th>\n",
       "      <td>0.049139</td>\n",
       "      <td>-7.27577</td>\n",
       "    </tr>\n",
       "    <tr>\n",
       "      <th>1</th>\n",
       "      <th>M6PR</th>\n",
       "      <td>0.025605</td>\n",
       "      <td>-7.00591</td>\n",
       "    </tr>\n",
       "    <tr>\n",
       "      <th>2</th>\n",
       "      <th>FKBP4</th>\n",
       "      <td>-0.019513</td>\n",
       "      <td>-7.25800</td>\n",
       "    </tr>\n",
       "  </tbody>\n",
       "</table>\n",
       "</div>"
      ],
      "text/plain": [
       "                           emb_1    emb_2\n",
       "node_id preferred_name                   \n",
       "0       ARF5            0.049139 -7.27577\n",
       "1       M6PR            0.025605 -7.00591\n",
       "2       FKBP4          -0.019513 -7.25800"
      ]
     },
     "execution_count": 9,
     "metadata": {},
     "output_type": "execute_result"
    }
   ],
   "source": [
    "embedding_df = (\n",
    "    pd.read_csv(raw_embeddings_path, sep=\" \", skiprows=1, index_col=0, header=None)\n",
    "    .rename_axis(index=\"node_id\")\n",
    "    .add_prefix(\"emb_\")\n",
    "    .sort_index()\n",
    ")\n",
    "embedding_df[\"preferred_name\"] = embedding_df.index.map(index_to_name)\n",
    "embedding_df = embedding_df.set_index(\"preferred_name\", append=True)\n",
    "embedding_df.head(3)"
   ]
  },
  {
   "cell_type": "code",
   "execution_count": 10,
   "metadata": {},
   "outputs": [
    {
     "data": {
      "text/plain": [
       "1994"
      ]
     },
     "execution_count": 10,
     "metadata": {},
     "output_type": "execute_result"
    }
   ],
   "source": [
    "len(embedding_df)"
   ]
  },
  {
   "cell_type": "code",
   "execution_count": 11,
   "metadata": {},
   "outputs": [],
   "source": [
    "embedding_df.to_csv(embeddings_path, sep=\"\\t\")"
   ]
  },
  {
   "cell_type": "markdown",
   "metadata": {},
   "source": [
    "## Plot first 2 embeddings"
   ]
  },
  {
   "cell_type": "code",
   "execution_count": 12,
   "metadata": {},
   "outputs": [
    {
     "data": {
      "image/png": "[encoded data removed]",
      "text/plain": [
       "<Figure size 432x288 with 1 Axes>"
      ]
     },
     "metadata": {
      "needs_background": "light"
     },
     "output_type": "display_data"
    }
   ],
   "source": [
    "import seaborn\n",
    "%matplotlib inline\n",
    "seaborn.scatterplot(\"emb_1\", \"emb_2\", data=embedding_df, alpha=0.1);"
   ]
  }
 ],
 "metadata": {
  "kernelspec": {
   "display_name": "Python 3",
   "language": "python",
   "name": "python3"
  },
  "language_info": {
   "codemirror_mode": {
    "name": "ipython",
    "version": 3
   },
   "file_extension": ".py",
   "mimetype": "text/x-python",
   "name": "python",
   "nbconvert_exporter": "python",
   "pygments_lexer": "ipython3",
   "version": "3.8.2"
  }
 },
 "nbformat": 4,
 "nbformat_minor": 4
}
