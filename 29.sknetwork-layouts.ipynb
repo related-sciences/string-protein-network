{
 "cells": [
  {
   "cell_type": "markdown",
   "metadata": {},
   "source": [
    "# Apply 2D layout / embedding methods from scikit-network\n",
    "\n",
    "\n",
    "[`sknetwork.embedding`](https://scikit-network.readthedocs.io/en/latest/reference/embedding.html) supports several methods that default to creating a two dimensional layout. This notebook applies each method with default hyperparameters.\n",
    "\n",
    "None of the methods produce diagrams with distinct visual clusters and are therefore not ideal for 2D plots of all genes."
   ]
  },
  {
   "cell_type": "code",
   "execution_count": 1,
   "metadata": {},
   "outputs": [],
   "source": [
    "import numpy as np\n",
    "import pandas as pd\n",
    "import scipy.sparse\n",
    "import seaborn\n",
    "import sknetwork as skn\n",
    "\n",
    "from utils import get_protein_info_df"
   ]
  },
  {
   "cell_type": "markdown",
   "metadata": {},
   "source": [
    "## read the STRING combined score network"
   ]
  },
  {
   "cell_type": "code",
   "execution_count": 2,
   "metadata": {},
   "outputs": [
    {
     "data": {
      "text/plain": [
       "<19566x19566 sparse matrix of type '<class 'numpy.float64'>'\n",
       "\twith 11759454 stored elements in Compressed Sparse Row format>"
      ]
     },
     "execution_count": 2,
     "metadata": {},
     "output_type": "execute_result"
    }
   ],
   "source": [
    "score_spmatrix = scipy.sparse.load_npz(\"data/score-matrices/combined_score.sparse.npz\")\n",
    "score_spmatrix = score_spmatrix / 1000 # convert scores to be 0-1\n",
    "score_spmatrix"
   ]
  },
  {
   "cell_type": "code",
   "execution_count": 3,
   "metadata": {},
   "outputs": [
    {
     "data": {
      "text/html": [
       "<div>\n",
       "<style scoped>\n",
       "    .dataframe tbody tr th:only-of-type {\n",
       "        vertical-align: middle;\n",
       "    }\n",
       "\n",
       "    .dataframe tbody tr th {\n",
       "        vertical-align: top;\n",
       "    }\n",
       "\n",
       "    .dataframe thead th {\n",
       "        text-align: right;\n",
       "    }\n",
       "</style>\n",
       "<table border=\"1\" class=\"dataframe\">\n",
       "  <thead>\n",
       "    <tr style=\"text-align: right;\">\n",
       "      <th></th>\n",
       "      <th>index</th>\n",
       "      <th>protein_external_id</th>\n",
       "      <th>preferred_name</th>\n",
       "      <th>protein_size</th>\n",
       "      <th>annotation</th>\n",
       "      <th>degree</th>\n",
       "    </tr>\n",
       "  </thead>\n",
       "  <tbody>\n",
       "    <tr>\n",
       "      <th>0</th>\n",
       "      <td>0</td>\n",
       "      <td>9606.ENSP00000000233</td>\n",
       "      <td>ARF5</td>\n",
       "      <td>180</td>\n",
       "      <td>ADP-ribosylation factor 5; GTP-binding protein...</td>\n",
       "      <td>1662</td>\n",
       "    </tr>\n",
       "    <tr>\n",
       "      <th>1</th>\n",
       "      <td>1</td>\n",
       "      <td>9606.ENSP00000000412</td>\n",
       "      <td>M6PR</td>\n",
       "      <td>277</td>\n",
       "      <td>Cation-dependent mannose-6-phosphate receptor;...</td>\n",
       "      <td>536</td>\n",
       "    </tr>\n",
       "  </tbody>\n",
       "</table>\n",
       "</div>"
      ],
      "text/plain": [
       "   index   protein_external_id preferred_name  protein_size  \\\n",
       "0      0  9606.ENSP00000000233           ARF5           180   \n",
       "1      1  9606.ENSP00000000412           M6PR           277   \n",
       "\n",
       "                                          annotation  degree  \n",
       "0  ADP-ribosylation factor 5; GTP-binding protein...    1662  \n",
       "1  Cation-dependent mannose-6-phosphate receptor;...     536  "
      ]
     },
     "execution_count": 3,
     "metadata": {},
     "output_type": "execute_result"
    }
   ],
   "source": [
    "protein_df = get_protein_info_df()\n",
    "# add degree column\n",
    "protein_df[\"degree\"] = (score_spmatrix > 0).sum(axis=1)\n",
    "protein_df.head(2)"
   ]
  },
  {
   "cell_type": "markdown",
   "metadata": {},
   "source": [
    "## Configure embedding methods"
   ]
  },
  {
   "cell_type": "code",
   "execution_count": 4,
   "metadata": {},
   "outputs": [],
   "source": [
    "# https://scikit-network.readthedocs.io/en/latest/reference/embedding.html#\n",
    "n_components = 2\n",
    "methods = [\n",
    "    dict(\n",
    "        model=skn.embedding.Spectral,\n",
    "        kwargs=dict(n_components=n_components),\n",
    "    ),\n",
    "    dict(\n",
    "        model=skn.embedding.SVD,\n",
    "        kwargs=dict(n_components=n_components),\n",
    "    ),\n",
    "    dict(\n",
    "        model=skn.embedding.GSVD,\n",
    "        kwargs=dict(n_components=n_components),\n",
    "    ),\n",
    "    dict(\n",
    "        model=skn.embedding.Spring,\n",
    "        kwargs=dict(position_init=\"spectral\"),\n",
    "    ),\n",
    "]"
   ]
  },
  {
   "cell_type": "markdown",
   "metadata": {},
   "source": [
    "### run all embedding methods"
   ]
  },
  {
   "cell_type": "code",
   "execution_count": 5,
   "metadata": {},
   "outputs": [],
   "source": [
    "embedding_dfs = [protein_df[[\"index\", \"preferred_name\", \"degree\"]]]\n",
    "for method in methods:\n",
    "    method[\"name\"] = method[\"model\"].__name__.lower()\n",
    "    np.random.seed(0)  # set random seed for deterministic embeddings\n",
    "    model = method[\"model\"](**method.get(\"kwargs\", {}))\n",
    "    embedding = model.fit_transform(adjacency=score_spmatrix)\n",
    "    method[\"modularity\"], method[\"fit\"], method[\"diversity\"] = skn.embedding.cosine_modularity(\n",
    "        adjacency=score_spmatrix, embedding=embedding, return_all=True)\n",
    "    df = pd.DataFrame(embedding, columns=range(1, n_components+1)).add_prefix(f\"{method['name']}_\")\n",
    "    embedding_dfs.append(df)"
   ]
  },
  {
   "cell_type": "markdown",
   "metadata": {},
   "source": [
    "#### performance metrics based on [cosine_modularity](https://scikit-network.readthedocs.io/en/latest/reference/embedding.html#sknetwork.embedding.cosine_modularity)"
   ]
  },
  {
   "cell_type": "code",
   "execution_count": 6,
   "metadata": {},
   "outputs": [
    {
     "data": {
      "text/html": [
       "<div>\n",
       "<style scoped>\n",
       "    .dataframe tbody tr th:only-of-type {\n",
       "        vertical-align: middle;\n",
       "    }\n",
       "\n",
       "    .dataframe tbody tr th {\n",
       "        vertical-align: top;\n",
       "    }\n",
       "\n",
       "    .dataframe thead th {\n",
       "        text-align: right;\n",
       "    }\n",
       "</style>\n",
       "<table border=\"1\" class=\"dataframe\">\n",
       "  <thead>\n",
       "    <tr style=\"text-align: right;\">\n",
       "      <th></th>\n",
       "      <th>model</th>\n",
       "      <th>kwargs</th>\n",
       "      <th>name</th>\n",
       "      <th>modularity</th>\n",
       "      <th>fit</th>\n",
       "      <th>diversity</th>\n",
       "    </tr>\n",
       "  </thead>\n",
       "  <tbody>\n",
       "    <tr>\n",
       "      <th>0</th>\n",
       "      <td>&lt;class 'sknetwork.embedding.spectral.Spectral'&gt;</td>\n",
       "      <td>{'n_components': 2}</td>\n",
       "      <td>spectral</td>\n",
       "      <td>0.845240</td>\n",
       "      <td>0.508078</td>\n",
       "      <td>0.337163</td>\n",
       "    </tr>\n",
       "    <tr>\n",
       "      <th>1</th>\n",
       "      <td>&lt;class 'sknetwork.embedding.svd.SVD'&gt;</td>\n",
       "      <td>{'n_components': 2}</td>\n",
       "      <td>svd</td>\n",
       "      <td>16.383498</td>\n",
       "      <td>6.816678</td>\n",
       "      <td>9.566820</td>\n",
       "    </tr>\n",
       "    <tr>\n",
       "      <th>2</th>\n",
       "      <td>&lt;class 'sknetwork.embedding.svd.GSVD'&gt;</td>\n",
       "      <td>{'n_components': 2}</td>\n",
       "      <td>gsvd</td>\n",
       "      <td>1.386060</td>\n",
       "      <td>0.952607</td>\n",
       "      <td>0.433453</td>\n",
       "    </tr>\n",
       "    <tr>\n",
       "      <th>3</th>\n",
       "      <td>&lt;class 'sknetwork.embedding.spring.Spring'&gt;</td>\n",
       "      <td>{'position_init': 'spectral'}</td>\n",
       "      <td>spring</td>\n",
       "      <td>0.937063</td>\n",
       "      <td>0.500000</td>\n",
       "      <td>0.437063</td>\n",
       "    </tr>\n",
       "  </tbody>\n",
       "</table>\n",
       "</div>"
      ],
      "text/plain": [
       "                                             model  \\\n",
       "0  <class 'sknetwork.embedding.spectral.Spectral'>   \n",
       "1            <class 'sknetwork.embedding.svd.SVD'>   \n",
       "2           <class 'sknetwork.embedding.svd.GSVD'>   \n",
       "3      <class 'sknetwork.embedding.spring.Spring'>   \n",
       "\n",
       "                          kwargs      name  modularity       fit  diversity  \n",
       "0            {'n_components': 2}  spectral    0.845240  0.508078   0.337163  \n",
       "1            {'n_components': 2}       svd   16.383498  6.816678   9.566820  \n",
       "2            {'n_components': 2}      gsvd    1.386060  0.952607   0.433453  \n",
       "3  {'position_init': 'spectral'}    spring    0.937063  0.500000   0.437063  "
      ]
     },
     "execution_count": 6,
     "metadata": {},
     "output_type": "execute_result"
    }
   ],
   "source": [
    "method_df = pd.DataFrame(methods)\n",
    "method_df"
   ]
  },
  {
   "cell_type": "markdown",
   "metadata": {},
   "source": [
    "#### visualizing embeddings"
   ]
  },
  {
   "cell_type": "code",
   "execution_count": 7,
   "metadata": {},
   "outputs": [
    {
     "data": {
      "text/html": [
       "<div>\n",
       "<style scoped>\n",
       "    .dataframe tbody tr th:only-of-type {\n",
       "        vertical-align: middle;\n",
       "    }\n",
       "\n",
       "    .dataframe tbody tr th {\n",
       "        vertical-align: top;\n",
       "    }\n",
       "\n",
       "    .dataframe thead th {\n",
       "        text-align: right;\n",
       "    }\n",
       "</style>\n",
       "<table border=\"1\" class=\"dataframe\">\n",
       "  <thead>\n",
       "    <tr style=\"text-align: right;\">\n",
       "      <th></th>\n",
       "      <th>index</th>\n",
       "      <th>preferred_name</th>\n",
       "      <th>degree</th>\n",
       "      <th>spectral_1</th>\n",
       "      <th>spectral_2</th>\n",
       "      <th>svd_1</th>\n",
       "      <th>svd_2</th>\n",
       "      <th>gsvd_1</th>\n",
       "      <th>gsvd_2</th>\n",
       "      <th>spring_1</th>\n",
       "      <th>spring_2</th>\n",
       "    </tr>\n",
       "  </thead>\n",
       "  <tbody>\n",
       "    <tr>\n",
       "      <th>0</th>\n",
       "      <td>0</td>\n",
       "      <td>ARF5</td>\n",
       "      <td>1662</td>\n",
       "      <td>-0.007849</td>\n",
       "      <td>-0.999969</td>\n",
       "      <td>3.930347</td>\n",
       "      <td>1.265883</td>\n",
       "      <td>0.999363</td>\n",
       "      <td>-0.035675</td>\n",
       "      <td>4.333704e-07</td>\n",
       "      <td>-0.000042</td>\n",
       "    </tr>\n",
       "    <tr>\n",
       "      <th>1</th>\n",
       "      <td>1</td>\n",
       "      <td>M6PR</td>\n",
       "      <td>536</td>\n",
       "      <td>-0.597126</td>\n",
       "      <td>-0.802147</td>\n",
       "      <td>2.459808</td>\n",
       "      <td>1.294378</td>\n",
       "      <td>0.998241</td>\n",
       "      <td>0.059279</td>\n",
       "      <td>-9.862415e-05</td>\n",
       "      <td>-0.000134</td>\n",
       "    </tr>\n",
       "  </tbody>\n",
       "</table>\n",
       "</div>"
      ],
      "text/plain": [
       "   index preferred_name  degree  spectral_1  spectral_2     svd_1     svd_2  \\\n",
       "0      0           ARF5    1662   -0.007849   -0.999969  3.930347  1.265883   \n",
       "1      1           M6PR     536   -0.597126   -0.802147  2.459808  1.294378   \n",
       "\n",
       "     gsvd_1    gsvd_2      spring_1  spring_2  \n",
       "0  0.999363 -0.035675  4.333704e-07 -0.000042  \n",
       "1  0.998241  0.059279 -9.862415e-05 -0.000134  "
      ]
     },
     "execution_count": 7,
     "metadata": {},
     "output_type": "execute_result"
    }
   ],
   "source": [
    "embedding_df = pd.concat(embedding_dfs, axis=\"columns\", verify_integrity=True)\n",
    "embedding_df.head(2)"
   ]
  },
  {
   "cell_type": "code",
   "execution_count": 8,
   "metadata": {},
   "outputs": [],
   "source": [
    "# save as a TSV\n",
    "embedding_df.to_csv(\"data/embeddings/sknetwork-methods-2d.tsv.xz\", sep=\"\\t\", index=False, float_format=\"%.5g\")"
   ]
  },
  {
   "cell_type": "code",
   "execution_count": 9,
   "metadata": {},
   "outputs": [
    {
     "data": {
      "image/png": "[encoded data removed]",
      "text/plain": [
       "<Figure size 432x432 with 3 Axes>"
      ]
     },
     "metadata": {
      "needs_background": "light"
     },
     "output_type": "display_data"
    },
    {
     "data": {
      "image/png": "[encoded data removed]",
      "text/plain": [
       "<Figure size 432x432 with 3 Axes>"
      ]
     },
     "metadata": {
      "needs_background": "light"
     },
     "output_type": "display_data"
    },
    {
     "data": {
      "image/png": "[encoded data removed]",
      "text/plain": [
       "<Figure size 432x432 with 3 Axes>"
      ]
     },
     "metadata": {
      "needs_background": "light"
     },
     "output_type": "display_data"
    },
    {
     "data": {
      "image/png": "[encoded data removed]",
      "text/plain": [
       "<Figure size 432x432 with 3 Axes>"
      ]
     },
     "metadata": {
      "needs_background": "light"
     },
     "output_type": "display_data"
    }
   ],
   "source": [
    "for method in methods:\n",
    "    name = method[\"name\"]\n",
    "    seaborn.jointplot(x=f\"{name}_1\", y=f\"{name}_2\", data=embedding_df)"
   ]
  }
 ],
 "metadata": {
  "kernelspec": {
   "display_name": "Python 3",
   "language": "python",
   "name": "python3"
  },
  "language_info": {
   "codemirror_mode": {
    "name": "ipython",
    "version": 3
   },
   "file_extension": ".py",
   "mimetype": "text/x-python",
   "name": "python",
   "nbconvert_exporter": "python",
   "pygments_lexer": "ipython3",
   "version": "3.8.2"
  }
 },
 "nbformat": 4,
 "nbformat_minor": 4
}
