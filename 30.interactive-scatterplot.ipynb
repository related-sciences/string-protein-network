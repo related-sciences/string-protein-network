{
 "cells": [
  {
   "cell_type": "markdown",
   "metadata": {},
   "source": [
    "# Create an interactive scatterplot using plotly"
   ]
  },
  {
   "cell_type": "code",
   "execution_count": 1,
   "metadata": {},
   "outputs": [],
   "source": [
    "import scipy.sparse\n",
    "import pandas as pd\n",
    "import plotly.express as px\n",
    "import plotly.graph_objects as go\n",
    "import requests"
   ]
  },
  {
   "cell_type": "code",
   "execution_count": 2,
   "metadata": {},
   "outputs": [],
   "source": [
    "# reduce dataset for less resource-intensive development\n",
    "development = True"
   ]
  },
  {
   "cell_type": "code",
   "execution_count": 3,
   "metadata": {},
   "outputs": [
    {
     "data": {
      "text/plain": [
       "810"
      ]
     },
     "execution_count": 3,
     "metadata": {},
     "output_type": "execute_result"
    }
   ],
   "source": [
    "# Retrieve symbols for an MSigDB Gene Set\n",
    "# https://www.gsea-msigdb.org/gsea/msigdb/search.jsp\n",
    "url = \"https://www.gsea-msigdb.org/gsea/msigdb/download_geneset.jsp\"\n",
    "params = dict(geneSetName=\"GO_CARDIOVASCULAR_SYSTEM_DEVELOPMENT\", fileType=\"gmx\")\n",
    "response = requests.get(url, params)\n",
    "query_genes = set(response.text.splitlines()[2:])\n",
    "len(query_genes)"
   ]
  },
  {
   "cell_type": "code",
   "execution_count": 4,
   "metadata": {},
   "outputs": [],
   "source": [
    "def wrap_text(text, width=55):\n",
    "    \"\"\"\n",
    "    Plotly does not wrap long text by default\n",
    "    https://github.com/plotly/plotly.js/issues/1964\n",
    "    \"\"\"\n",
    "    import textwrap\n",
    "    lines = textwrap.wrap(text, width=width)\n",
    "    return \"<br>\".join(lines)"
   ]
  },
  {
   "cell_type": "code",
   "execution_count": 5,
   "metadata": {},
   "outputs": [
    {
     "data": {
      "text/html": [
       "<div>\n",
       "<style scoped>\n",
       "    .dataframe tbody tr th:only-of-type {\n",
       "        vertical-align: middle;\n",
       "    }\n",
       "\n",
       "    .dataframe tbody tr th {\n",
       "        vertical-align: top;\n",
       "    }\n",
       "\n",
       "    .dataframe thead th {\n",
       "        text-align: right;\n",
       "    }\n",
       "</style>\n",
       "<table border=\"1\" class=\"dataframe\">\n",
       "  <thead>\n",
       "    <tr style=\"text-align: right;\">\n",
       "      <th></th>\n",
       "      <th>index</th>\n",
       "      <th>protein_external_id</th>\n",
       "      <th>preferred_name</th>\n",
       "      <th>protein_size</th>\n",
       "      <th>annotation</th>\n",
       "      <th>umap_0</th>\n",
       "      <th>umap_1</th>\n",
       "      <th>cluster</th>\n",
       "      <th>query_gene</th>\n",
       "      <th>size</th>\n",
       "    </tr>\n",
       "  </thead>\n",
       "  <tbody>\n",
       "    <tr>\n",
       "      <th>13767</th>\n",
       "      <td>13767</td>\n",
       "      <td>9606.ENSP00000378207</td>\n",
       "      <td>AKAP5</td>\n",
       "      <td>427</td>\n",
       "      <td>A-kinase anchor protein 5; May anchor the PKA ...</td>\n",
       "      <td>6.982815</td>\n",
       "      <td>3.326482</td>\n",
       "      <td>27</td>\n",
       "      <td>0</td>\n",
       "      <td>1</td>\n",
       "    </tr>\n",
       "    <tr>\n",
       "      <th>17899</th>\n",
       "      <td>17899</td>\n",
       "      <td>9606.ENSP00000454014</td>\n",
       "      <td>SHISA9</td>\n",
       "      <td>424</td>\n",
       "      <td>Protein shisa-9; Regulator of short-term neuro...</td>\n",
       "      <td>5.655531</td>\n",
       "      <td>0.999013</td>\n",
       "      <td>54</td>\n",
       "      <td>0</td>\n",
       "      <td>1</td>\n",
       "    </tr>\n",
       "  </tbody>\n",
       "</table>\n",
       "</div>"
      ],
      "text/plain": [
       "       index   protein_external_id preferred_name  protein_size  \\\n",
       "13767  13767  9606.ENSP00000378207          AKAP5           427   \n",
       "17899  17899  9606.ENSP00000454014         SHISA9           424   \n",
       "\n",
       "                                              annotation    umap_0    umap_1  \\\n",
       "13767  A-kinase anchor protein 5; May anchor the PKA ...  6.982815  3.326482   \n",
       "17899  Protein shisa-9; Regulator of short-term neuro...  5.655531  0.999013   \n",
       "\n",
       "      cluster  query_gene  size  \n",
       "13767      27           0     1  \n",
       "17899      54           0     1  "
      ]
     },
     "execution_count": 5,
     "metadata": {},
     "output_type": "execute_result"
    }
   ],
   "source": [
    "embedding_df = pd.read_csv(\"data/embeddings/node2vec-128d-to-umap-2d.tsv.xz\", sep=\"\\t\")\n",
    "embedding_df.cluster = embedding_df.cluster.map(\"{:02d}\".format)\n",
    "embedding_df.annotation = embedding_df.annotation.map(wrap_text)\n",
    "embedding_df[\"query_gene\"] = embedding_df.preferred_name.isin(query_genes).astype(int)\n",
    "embedding_df[\"size\"] = embedding_df.query_gene.map({0: 1, 1: 15})\n",
    "if development:\n",
    "    embedding_df = embedding_df.sample(n=2000, random_state=0)\n",
    "embedding_df.head(2)"
   ]
  },
  {
   "cell_type": "markdown",
   "metadata": {},
   "source": [
    "## Interactive scatterplot"
   ]
  },
  {
   "cell_type": "code",
   "execution_count": 6,
   "metadata": {
    "scrolled": false
   },
   "outputs": [
    {
     "data": {
      "application/vnd.jupyter.widget-view+json": {
       "model_id": "8163babf83624432910800d6d67596be",
       "version_major": 2,
       "version_minor": 0
      },
      "text/plain": [
       "FigureWidget({\n",
       "    'data': [{'customdata': array([['Retinol dehydrogenase 11; Exhibits an oxidoreductive<br>ca…"
      ]
     },
     "metadata": {},
     "output_type": "display_data"
    }
   ],
   "source": [
    "fig = px.scatter(\n",
    "    data_frame=embedding_df,\n",
    "    x=\"umap_0\",\n",
    "    y=\"umap_1\",\n",
    "    color=\"cluster\",\n",
    "    hover_name=\"preferred_name\",\n",
    "    hover_data=[\"annotation\"],\n",
    "    category_orders=dict(cluster=sorted(embedding_df.cluster.unique())),\n",
    "    width=900,\n",
    "    height=900,\n",
    "    size=\"size\",\n",
    "    size_max=10,\n",
    "    render_mode='webgl',  # https://plotly.com/python/webgl-vs-svg/\n",
    ")\n",
    "# convert from plotly.graph_objs._figure.Figure to plotly.graph_objs._figurewidget.FigureWidget for cross-cell interactivity\n",
    "fig = go.FigureWidget(fig)\n",
    "fig.update_traces(opacity=0.85)\n",
    "\n",
    "# https://medium.com/plotly/introducing-plotly-py-theming-b644109ac9c7\n",
    "# fig.layout.template = \"plotly_dark\"\n",
    "if not development:\n",
    "    fig.write_html(\"data/viz/interactive-scatterplot.html\", auto_open=False)\n",
    "# else:\n",
    "    # https://nbviewer.jupyter.org/github/jonmmease/plotly_ipywidget_notebooks/tree/master/notebooks/\n",
    "    # FigureWidget does not use the renderers framework discussed above,\n",
    "    # so you should not use the show() figure method or the plotly.io.show function on FigureWidget objects\n",
    "    # fig.show(renderrer=\"notebook_connected\")\n",
    "fig"
   ]
  },
  {
   "cell_type": "markdown",
   "metadata": {},
   "source": [
    "## Table of selected points\n",
    "\n",
    "This table requires a running Python kernel to update (it won't work in an HTML export).\n",
    "\n",
    "\n",
    "#### Implementation notes\n",
    "\n",
    "Plotly has a demo to [Populate a Table Using a Plotly Mouse Selection Event](https://plotly.com/python/v3/selection-events/).\n",
    "Updating a table based on selected points is simple when all points are part of the same trace.\n",
    "But when there are multiple traces (like for each cluster/color in our scatterplot), the implementation becomes convoluted and fragile. See https://stackoverflow.com/a/53863831/4651668."
   ]
  },
  {
   "cell_type": "code",
   "execution_count": 7,
   "metadata": {},
   "outputs": [
    {
     "data": {
      "application/vnd.jupyter.widget-view+json": {
       "model_id": "c610197811d8465ea015e51bb728ea2f",
       "version_major": 2,
       "version_minor": 0
      },
      "text/plain": [
       "FigureWidget({\n",
       "    'data': [{'cells': {'values': [[], []]},\n",
       "              'header': {'values': ['preferred_nam…"
      ]
     },
     "metadata": {},
     "output_type": "display_data"
    }
   ],
   "source": [
    "table_columns = [\"preferred_name\", \"cluster\"]\n",
    "\n",
    "def get_table_values(gene_symbols):\n",
    "    \"\"\"Return embedding_df values formatted for a plotly Table, filtered by gene_symbols.\"\"\"\n",
    "    return list(\n",
    "        embedding_df\n",
    "        .query(\"preferred_name in @gene_symbols\")\n",
    "        .reindex(columns=table_columns)\n",
    "        .to_dict(orient=\"list\")\n",
    "        .values()\n",
    "    )\n",
    "\n",
    "def update_table(gene_symbols):\n",
    "    \"\"\"Update the table widget filtered for gene_symbols.\"\"\"\n",
    "    table.data[0].cells.values = get_table_values(gene_symbols)\n",
    "\n",
    "# retains state across successive selection_callback calls\n",
    "selection = dict(up_to_trace=-1, genes=[])\n",
    "\n",
    "def selection_callback(trace, points, selector):\n",
    "    \"\"\"This function is called on every trace to determine which genes are selected.\"\"\"\n",
    "    if points.trace_index <= selection[\"up_to_trace\"]:\n",
    "        selection[\"genes\"] = []\n",
    "    selection[\"up_to_trace\"] = points.trace_index\n",
    "    genes = trace.hovertext[points.point_inds]\n",
    "    selection[\"genes\"].extend(genes)\n",
    "    if points.trace_index + 1 == len(fig.data):\n",
    "        update_table(selection[\"genes\"])\n",
    "\n",
    "# register selection callback\n",
    "for scatter in fig.data:\n",
    "    # on_selection callback runs on all traces, even those that have no markers selected\n",
    "    scatter.on_selection(selection_callback)\n",
    "\n",
    "# create table\n",
    "table = go.Table(\n",
    "    header=dict(values=table_columns),\n",
    "    cells=dict(values=get_table_values([]))\n",
    ")\n",
    "table = go.FigureWidget(table)\n",
    "table"
   ]
  },
  {
   "cell_type": "code",
   "execution_count": 8,
   "metadata": {},
   "outputs": [],
   "source": [
    "# # snippets for scaling points whose radius stays invariant upon zoom\n",
    "# # https://stackoverflow.com/questions/47086547/set-marker-size-based-on-coordinate-values-not-pixels-in-plotly-r\n",
    "# # https://plotly.com/python/click-events/\n",
    "# scatter = fig.data[0]\n",
    "# def callback(xaxis, yaxis):\n",
    "# scatter.on_change(callback, ('xaxis', 'range'), ('yaxis', 'range'))"
   ]
  }
 ],
 "metadata": {
  "kernelspec": {
   "display_name": "Python 3",
   "language": "python",
   "name": "python3"
  },
  "language_info": {
   "codemirror_mode": {
    "name": "ipython",
    "version": 3
   },
   "file_extension": ".py",
   "mimetype": "text/x-python",
   "name": "python",
   "nbconvert_exporter": "python",
   "pygments_lexer": "ipython3",
   "version": "3.8.2"
  }
 },
 "nbformat": 4,
 "nbformat_minor": 4
}
