{
 "cells": [
  {
   "cell_type": "markdown",
   "metadata": {},
   "source": [
    "# Create an interactive scatterplot using plotly"
   ]
  },
  {
   "cell_type": "code",
   "execution_count": 1,
   "metadata": {},
   "outputs": [],
   "source": [
    "import umap\n",
    "import scipy.sparse\n",
    "import pandas as pd\n",
    "import plotly.express as px"
   ]
  },
  {
   "cell_type": "code",
   "execution_count": 2,
   "metadata": {},
   "outputs": [],
   "source": [
    "def wrap_text(text, width=55):\n",
    "    \"\"\"\n",
    "    Plotly does not wrap long text by default\n",
    "    https://github.com/plotly/plotly.js/issues/1964\n",
    "    \"\"\"\n",
    "    import textwrap\n",
    "    lines = textwrap.wrap(text, width=width)\n",
    "    return \"<br>\".join(lines)"
   ]
  },
  {
   "cell_type": "code",
   "execution_count": 3,
   "metadata": {},
   "outputs": [
    {
     "data": {
      "text/html": [
       "<div>\n",
       "<style scoped>\n",
       "    .dataframe tbody tr th:only-of-type {\n",
       "        vertical-align: middle;\n",
       "    }\n",
       "\n",
       "    .dataframe tbody tr th {\n",
       "        vertical-align: top;\n",
       "    }\n",
       "\n",
       "    .dataframe thead th {\n",
       "        text-align: right;\n",
       "    }\n",
       "</style>\n",
       "<table border=\"1\" class=\"dataframe\">\n",
       "  <thead>\n",
       "    <tr style=\"text-align: right;\">\n",
       "      <th></th>\n",
       "      <th>index</th>\n",
       "      <th>protein_external_id</th>\n",
       "      <th>preferred_name</th>\n",
       "      <th>protein_size</th>\n",
       "      <th>annotation</th>\n",
       "      <th>umap_0</th>\n",
       "      <th>umap_1</th>\n",
       "      <th>cluster</th>\n",
       "    </tr>\n",
       "  </thead>\n",
       "  <tbody>\n",
       "    <tr>\n",
       "      <th>0</th>\n",
       "      <td>0</td>\n",
       "      <td>9606.ENSP00000000233</td>\n",
       "      <td>ARF5</td>\n",
       "      <td>180</td>\n",
       "      <td>ADP-ribosylation factor 5; GTP-binding protein...</td>\n",
       "      <td>12.868138</td>\n",
       "      <td>2.650041</td>\n",
       "      <td>45</td>\n",
       "    </tr>\n",
       "    <tr>\n",
       "      <th>1</th>\n",
       "      <td>1</td>\n",
       "      <td>9606.ENSP00000000412</td>\n",
       "      <td>M6PR</td>\n",
       "      <td>277</td>\n",
       "      <td>Cation-dependent mannose-6-phosphate receptor;...</td>\n",
       "      <td>5.868094</td>\n",
       "      <td>7.865096</td>\n",
       "      <td>77</td>\n",
       "    </tr>\n",
       "  </tbody>\n",
       "</table>\n",
       "</div>"
      ],
      "text/plain": [
       "   index   protein_external_id preferred_name  protein_size  \\\n",
       "0      0  9606.ENSP00000000233           ARF5           180   \n",
       "1      1  9606.ENSP00000000412           M6PR           277   \n",
       "\n",
       "                                          annotation     umap_0    umap_1  \\\n",
       "0  ADP-ribosylation factor 5; GTP-binding protein...  12.868138  2.650041   \n",
       "1  Cation-dependent mannose-6-phosphate receptor;...   5.868094  7.865096   \n",
       "\n",
       "  cluster  \n",
       "0      45  \n",
       "1      77  "
      ]
     },
     "execution_count": 3,
     "metadata": {},
     "output_type": "execute_result"
    }
   ],
   "source": [
    "embedding_df = pd.read_csv(\"data/embeddings/node2vec-128d-to-umap-2d.tsv.xz\", sep=\"\\t\")\n",
    "embedding_df.cluster = embedding_df.cluster.map(\"{:02d}\".format)\n",
    "embedding_df.annotation = embedding_df.annotation.map(wrap_text)\n",
    "embedding_df.head(2)"
   ]
  },
  {
   "cell_type": "code",
   "execution_count": 4,
   "metadata": {},
   "outputs": [],
   "source": [
    "fig = px.scatter(\n",
    "    data_frame=embedding_df,\n",
    "    x=\"umap_0\",\n",
    "    y=\"umap_1\",\n",
    "    color=\"cluster\",\n",
    "    hover_name=\"preferred_name\",\n",
    "    hover_data=[\"annotation\"],\n",
    "    category_orders=dict(cluster=sorted(embedding_df.cluster.unique())),\n",
    "    width=900,\n",
    "    height=900,\n",
    ")\n",
    "fig.update_traces(opacity=0.5)\n",
    "# https://medium.com/plotly/introducing-plotly-py-theming-b644109ac9c7\n",
    "fig.layout.template = \"plotly_dark\"\n",
    "fig.write_html(\"data/viz/interactive-scatterplot.html\", auto_open=False)"
   ]
  },
  {
   "cell_type": "code",
   "execution_count": 6,
   "metadata": {},
   "outputs": [],
   "source": [
    "# # snippets for scaling points whose radius stays invariant upon zoom\n",
    "# # https://stackoverflow.com/questions/47086547/set-marker-size-based-on-coordinate-values-not-pixels-in-plotly-r\n",
    "# # https://plotly.com/python/click-events/\n",
    "# scatter = fig.data[0]\n",
    "# def callback(xaxis, yaxis):\n",
    "# scatter.on_change(callback, ('xaxis', 'range'), ('yaxis', 'range'))"
   ]
  }
 ],
 "metadata": {
  "kernelspec": {
   "display_name": "Python 3",
   "language": "python",
   "name": "python3"
  },
  "language_info": {
   "codemirror_mode": {
    "name": "ipython",
    "version": 3
   },
   "file_extension": ".py",
   "mimetype": "text/x-python",
   "name": "python",
   "nbconvert_exporter": "python",
   "pygments_lexer": "ipython3",
   "version": "3.8.2"
  }
 },
 "nbformat": 4,
 "nbformat_minor": 4
}
