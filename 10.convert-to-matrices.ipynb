{
 "cells": [
  {
   "cell_type": "markdown",
   "metadata": {},
   "source": [
    "# Convert STRING PPI scores from table to matrix for each evidence channel\n",
    "\n",
    "Information on STRING datasets at\n",
    "\n",
    "- https://string-db.org/cgi/help.pl\n",
    "- https://string-db.org/cgi/download.pl?species_text=Homo+sapiens"
   ]
  },
  {
   "cell_type": "code",
   "execution_count": 1,
   "metadata": {},
   "outputs": [],
   "source": [
    "import matplotlib.pyplot as plt\n",
    "import numpy as np\n",
    "import pandas as pd\n",
    "import scipy.sparse\n",
    "from IPython.display import display\n",
    "\n",
    "from utils import get_string_dataset_path, get_protein_info_df"
   ]
  },
  {
   "cell_type": "markdown",
   "metadata": {},
   "source": [
    "## Download and examine STRING datasets"
   ]
  },
  {
   "cell_type": "code",
   "execution_count": 2,
   "metadata": {
    "scrolled": false
   },
   "outputs": [
    {
     "data": {
      "text/html": [
       "<div>\n",
       "<style scoped>\n",
       "    .dataframe tbody tr th:only-of-type {\n",
       "        vertical-align: middle;\n",
       "    }\n",
       "\n",
       "    .dataframe tbody tr th {\n",
       "        vertical-align: top;\n",
       "    }\n",
       "\n",
       "    .dataframe thead th {\n",
       "        text-align: right;\n",
       "    }\n",
       "</style>\n",
       "<table border=\"1\" class=\"dataframe\">\n",
       "  <thead>\n",
       "    <tr style=\"text-align: right;\">\n",
       "      <th></th>\n",
       "      <th>index</th>\n",
       "      <th>protein_external_id</th>\n",
       "      <th>preferred_name</th>\n",
       "      <th>protein_size</th>\n",
       "      <th>annotation</th>\n",
       "    </tr>\n",
       "  </thead>\n",
       "  <tbody>\n",
       "    <tr>\n",
       "      <th>19564</th>\n",
       "      <td>19564</td>\n",
       "      <td>9606.ENSP00000485675</td>\n",
       "      <td>ENSG00000280116</td>\n",
       "      <td>84</td>\n",
       "      <td>annotation not available</td>\n",
       "    </tr>\n",
       "    <tr>\n",
       "      <th>19565</th>\n",
       "      <td>19565</td>\n",
       "      <td>9606.ENSP00000485678</td>\n",
       "      <td>OR6Q1</td>\n",
       "      <td>317</td>\n",
       "      <td>Olfactory receptor 6Q1; Odorant receptor; Olfa...</td>\n",
       "    </tr>\n",
       "  </tbody>\n",
       "</table>\n",
       "</div>"
      ],
      "text/plain": [
       "       index   protein_external_id   preferred_name  protein_size  \\\n",
       "19564  19564  9606.ENSP00000485675  ENSG00000280116            84   \n",
       "19565  19565  9606.ENSP00000485678            OR6Q1           317   \n",
       "\n",
       "                                              annotation  \n",
       "19564                           annotation not available  \n",
       "19565  Olfactory receptor 6Q1; Odorant receptor; Olfa...  "
      ]
     },
     "execution_count": 2,
     "metadata": {},
     "output_type": "execute_result"
    }
   ],
   "source": [
    "# Show the head of protein info\n",
    "gene_df = get_protein_info_df()\n",
    "protein_to_index = gene_df.set_index('protein_external_id')['index'].to_dict()\n",
    "gene_df.tail(2)"
   ]
  },
  {
   "cell_type": "code",
   "execution_count": 3,
   "metadata": {},
   "outputs": [
    {
     "data": {
      "text/html": [
       "<div>\n",
       "<style scoped>\n",
       "    .dataframe tbody tr th:only-of-type {\n",
       "        vertical-align: middle;\n",
       "    }\n",
       "\n",
       "    .dataframe tbody tr th {\n",
       "        vertical-align: top;\n",
       "    }\n",
       "\n",
       "    .dataframe thead th {\n",
       "        text-align: right;\n",
       "    }\n",
       "</style>\n",
       "<table border=\"1\" class=\"dataframe\">\n",
       "  <thead>\n",
       "    <tr style=\"text-align: right;\">\n",
       "      <th></th>\n",
       "      <th>protein1</th>\n",
       "      <th>protein2</th>\n",
       "      <th>neighborhood</th>\n",
       "      <th>neighborhood_transferred</th>\n",
       "      <th>fusion</th>\n",
       "      <th>cooccurence</th>\n",
       "      <th>homology</th>\n",
       "      <th>coexpression</th>\n",
       "      <th>coexpression_transferred</th>\n",
       "      <th>experiments</th>\n",
       "      <th>experiments_transferred</th>\n",
       "      <th>database</th>\n",
       "      <th>database_transferred</th>\n",
       "      <th>textmining</th>\n",
       "      <th>textmining_transferred</th>\n",
       "      <th>combined_score</th>\n",
       "    </tr>\n",
       "  </thead>\n",
       "  <tbody>\n",
       "    <tr>\n",
       "      <th>0</th>\n",
       "      <td>9606.ENSP00000000233</td>\n",
       "      <td>9606.ENSP00000272298</td>\n",
       "      <td>0</td>\n",
       "      <td>0</td>\n",
       "      <td>0</td>\n",
       "      <td>332</td>\n",
       "      <td>0</td>\n",
       "      <td>0</td>\n",
       "      <td>62</td>\n",
       "      <td>0</td>\n",
       "      <td>181</td>\n",
       "      <td>0</td>\n",
       "      <td>0</td>\n",
       "      <td>0</td>\n",
       "      <td>125</td>\n",
       "      <td>490</td>\n",
       "    </tr>\n",
       "    <tr>\n",
       "      <th>1</th>\n",
       "      <td>9606.ENSP00000000233</td>\n",
       "      <td>9606.ENSP00000253401</td>\n",
       "      <td>0</td>\n",
       "      <td>0</td>\n",
       "      <td>0</td>\n",
       "      <td>0</td>\n",
       "      <td>0</td>\n",
       "      <td>0</td>\n",
       "      <td>0</td>\n",
       "      <td>0</td>\n",
       "      <td>186</td>\n",
       "      <td>0</td>\n",
       "      <td>0</td>\n",
       "      <td>0</td>\n",
       "      <td>56</td>\n",
       "      <td>198</td>\n",
       "    </tr>\n",
       "  </tbody>\n",
       "</table>\n",
       "</div>"
      ],
      "text/plain": [
       "               protein1              protein2  neighborhood  \\\n",
       "0  9606.ENSP00000000233  9606.ENSP00000272298             0   \n",
       "1  9606.ENSP00000000233  9606.ENSP00000253401             0   \n",
       "\n",
       "   neighborhood_transferred  fusion  cooccurence  homology  coexpression  \\\n",
       "0                         0       0          332         0             0   \n",
       "1                         0       0            0         0             0   \n",
       "\n",
       "   coexpression_transferred  experiments  experiments_transferred  database  \\\n",
       "0                        62            0                      181         0   \n",
       "1                         0            0                      186         0   \n",
       "\n",
       "   database_transferred  textmining  textmining_transferred  combined_score  \n",
       "0                     0           0                     125             490  \n",
       "1                     0           0                      56             198  "
      ]
     },
     "execution_count": 3,
     "metadata": {},
     "output_type": "execute_result"
    }
   ],
   "source": [
    "# Show the head of protein links\n",
    "link_path = get_string_dataset_path(\"protein.links.full\")\n",
    "link_head_df = pd.read_csv(link_path, sep=' ', nrows=2)\n",
    "link_head_df"
   ]
  },
  {
   "cell_type": "markdown",
   "metadata": {},
   "source": [
    "## Convert protein links to matrix format\n",
    "\n",
    "Each matrix contains a single evidence channel.\n",
    "\n",
    "Construct matrices use dense numpy array for speed. Then convert to [`scipy.sparse.csr_matrix`](https://docs.scipy.org/doc/scipy/reference/generated/scipy.sparse.csr_matrix.html), so all matrices fit in memory."
   ]
  },
  {
   "cell_type": "code",
   "execution_count": 4,
   "metadata": {},
   "outputs": [],
   "source": [
    "def generate_link_df_itertuples():\n",
    "    link_df_generator = pd.read_csv(link_path, sep=' ', chunksize=5_000)\n",
    "    for link_df in link_df_generator:\n",
    "        yield from link_df.itertuples()\n",
    "\n",
    "def get_empty_score_array() -> np.ndarray:\n",
    "    shape = len(gene_df), len(gene_df)\n",
    "    score_array = np.zeros(shape, dtype=np.uint16)\n",
    "    return score_array\n",
    "\n",
    "def load_score_array(channel=\"combined_score\") -> np.ndarray:\n",
    "    array = get_empty_score_array()\n",
    "    for row in generate_link_df_itertuples():\n",
    "        index_1 = protein_to_index[row.protein1]\n",
    "        index_2 = protein_to_index[row.protein2]\n",
    "        array[index_1, index_2] = getattr(row, channel)\n",
    "    return array\n",
    "\n",
    "def array_to_df(array: np.ndarray):\n",
    "    return pd.DataFrame(\n",
    "        data=array,\n",
    "        columns=gene_df.preferred_name,\n",
    "        index=gene_df.preferred_name,\n",
    "    )"
   ]
  },
  {
   "cell_type": "code",
   "execution_count": 5,
   "metadata": {},
   "outputs": [
    {
     "data": {
      "text/plain": [
       "14"
      ]
     },
     "execution_count": 5,
     "metadata": {},
     "output_type": "execute_result"
    }
   ],
   "source": [
    "channels = list(link_head_df.columns[2:])\n",
    "len(channels)"
   ]
  },
  {
   "cell_type": "code",
   "execution_count": 6,
   "metadata": {
    "scrolled": true
   },
   "outputs": [
    {
     "name": "stdout",
     "output_type": "stream",
     "text": [
      "neighborhood\n",
      "neighborhood_transferred\n",
      "fusion\n",
      "cooccurence\n",
      "homology\n",
      "coexpression\n",
      "coexpression_transferred\n",
      "experiments\n",
      "experiments_transferred\n",
      "database\n",
      "database_transferred\n",
      "textmining\n",
      "textmining_transferred\n",
      "combined_score\n",
      "CPU times: user 26min 47s, sys: 11.6 s, total: 26min 59s\n",
      "Wall time: 26min 59s\n"
     ]
    }
   ],
   "source": [
    "%%time\n",
    "score_arrays = {}\n",
    "for channel in channels:\n",
    "    print(channel)\n",
    "    score_array = load_score_array(channel)\n",
    "    score_array_sparse = scipy.sparse.csr_matrix(score_array)\n",
    "    score_arrays[channel] = score_array_sparse"
   ]
  },
  {
   "cell_type": "markdown",
   "metadata": {},
   "source": [
    "## Information on scores"
   ]
  },
  {
   "cell_type": "code",
   "execution_count": 7,
   "metadata": {},
   "outputs": [],
   "source": [
    "def describe_array(channel: str, array: scipy.sparse.csr_matrix):\n",
    "    info = {\"channel\": channel}\n",
    "    info[\"nrows\"], info[\"ncols\"] = array.shape\n",
    "    info[\"size\"] = np.prod(array.shape)\n",
    "    info[\"n_nonzero\"] = array.nnz\n",
    "    info[\"density\"] = \"{:.3%}\".format(info[\"n_nonzero\"] / info[\"size\"])\n",
    "    info[\"n_non_symmetric\"] = (array - array.transpose()).nnz\n",
    "    if info[\"n_nonzero\"] > 0:\n",
    "        info[\"nonzero_mean\"] = array.data.mean()\n",
    "        info[\"nonzero_median\"] = np.median(array.data)\n",
    "    return info"
   ]
  },
  {
   "cell_type": "code",
   "execution_count": 8,
   "metadata": {
    "scrolled": false
   },
   "outputs": [
    {
     "data": {
      "text/html": [
       "<div>\n",
       "<style scoped>\n",
       "    .dataframe tbody tr th:only-of-type {\n",
       "        vertical-align: middle;\n",
       "    }\n",
       "\n",
       "    .dataframe tbody tr th {\n",
       "        vertical-align: top;\n",
       "    }\n",
       "\n",
       "    .dataframe thead th {\n",
       "        text-align: right;\n",
       "    }\n",
       "</style>\n",
       "<table border=\"1\" class=\"dataframe\">\n",
       "  <thead>\n",
       "    <tr style=\"text-align: right;\">\n",
       "      <th></th>\n",
       "      <th>name</th>\n",
       "      <th>nrows</th>\n",
       "      <th>ncols</th>\n",
       "      <th>size</th>\n",
       "      <th>n_nonzero</th>\n",
       "      <th>density</th>\n",
       "      <th>n_non_symmetric</th>\n",
       "      <th>nonzero_mean</th>\n",
       "      <th>nonzero_median</th>\n",
       "    </tr>\n",
       "  </thead>\n",
       "  <tbody>\n",
       "    <tr>\n",
       "      <th>0</th>\n",
       "      <td>neighborhood</td>\n",
       "      <td>19566</td>\n",
       "      <td>19566</td>\n",
       "      <td>382828356</td>\n",
       "      <td>0</td>\n",
       "      <td>0.000%</td>\n",
       "      <td>0</td>\n",
       "      <td>NaN</td>\n",
       "      <td>NaN</td>\n",
       "    </tr>\n",
       "    <tr>\n",
       "      <th>1</th>\n",
       "      <td>neighborhood_transferred</td>\n",
       "      <td>19566</td>\n",
       "      <td>19566</td>\n",
       "      <td>382828356</td>\n",
       "      <td>404222</td>\n",
       "      <td>0.106%</td>\n",
       "      <td>0</td>\n",
       "      <td>93.567302</td>\n",
       "      <td>70.0</td>\n",
       "    </tr>\n",
       "    <tr>\n",
       "      <th>2</th>\n",
       "      <td>fusion</td>\n",
       "      <td>19566</td>\n",
       "      <td>19566</td>\n",
       "      <td>382828356</td>\n",
       "      <td>23388</td>\n",
       "      <td>0.006%</td>\n",
       "      <td>0</td>\n",
       "      <td>82.749102</td>\n",
       "      <td>6.0</td>\n",
       "    </tr>\n",
       "    <tr>\n",
       "      <th>3</th>\n",
       "      <td>cooccurence</td>\n",
       "      <td>19566</td>\n",
       "      <td>19566</td>\n",
       "      <td>382828356</td>\n",
       "      <td>60404</td>\n",
       "      <td>0.016%</td>\n",
       "      <td>0</td>\n",
       "      <td>346.419409</td>\n",
       "      <td>361.0</td>\n",
       "    </tr>\n",
       "    <tr>\n",
       "      <th>4</th>\n",
       "      <td>homology</td>\n",
       "      <td>19566</td>\n",
       "      <td>19566</td>\n",
       "      <td>382828356</td>\n",
       "      <td>217710</td>\n",
       "      <td>0.057%</td>\n",
       "      <td>0</td>\n",
       "      <td>676.650379</td>\n",
       "      <td>631.0</td>\n",
       "    </tr>\n",
       "    <tr>\n",
       "      <th>5</th>\n",
       "      <td>coexpression</td>\n",
       "      <td>19566</td>\n",
       "      <td>19566</td>\n",
       "      <td>382828356</td>\n",
       "      <td>2513002</td>\n",
       "      <td>0.656%</td>\n",
       "      <td>0</td>\n",
       "      <td>131.588230</td>\n",
       "      <td>98.0</td>\n",
       "    </tr>\n",
       "    <tr>\n",
       "      <th>6</th>\n",
       "      <td>coexpression_transferred</td>\n",
       "      <td>19566</td>\n",
       "      <td>19566</td>\n",
       "      <td>382828356</td>\n",
       "      <td>5090144</td>\n",
       "      <td>1.330%</td>\n",
       "      <td>0</td>\n",
       "      <td>89.584010</td>\n",
       "      <td>62.0</td>\n",
       "    </tr>\n",
       "    <tr>\n",
       "      <th>7</th>\n",
       "      <td>experiments</td>\n",
       "      <td>19566</td>\n",
       "      <td>19566</td>\n",
       "      <td>382828356</td>\n",
       "      <td>445816</td>\n",
       "      <td>0.116%</td>\n",
       "      <td>0</td>\n",
       "      <td>341.087009</td>\n",
       "      <td>305.0</td>\n",
       "    </tr>\n",
       "    <tr>\n",
       "      <th>8</th>\n",
       "      <td>experiments_transferred</td>\n",
       "      <td>19566</td>\n",
       "      <td>19566</td>\n",
       "      <td>382828356</td>\n",
       "      <td>4296274</td>\n",
       "      <td>1.122%</td>\n",
       "      <td>0</td>\n",
       "      <td>158.216116</td>\n",
       "      <td>157.0</td>\n",
       "    </tr>\n",
       "    <tr>\n",
       "      <th>9</th>\n",
       "      <td>database</td>\n",
       "      <td>19566</td>\n",
       "      <td>19566</td>\n",
       "      <td>382828356</td>\n",
       "      <td>706440</td>\n",
       "      <td>0.185%</td>\n",
       "      <td>0</td>\n",
       "      <td>859.364192</td>\n",
       "      <td>900.0</td>\n",
       "    </tr>\n",
       "    <tr>\n",
       "      <th>10</th>\n",
       "      <td>database_transferred</td>\n",
       "      <td>19566</td>\n",
       "      <td>19566</td>\n",
       "      <td>382828356</td>\n",
       "      <td>0</td>\n",
       "      <td>0.000%</td>\n",
       "      <td>0</td>\n",
       "      <td>NaN</td>\n",
       "      <td>NaN</td>\n",
       "    </tr>\n",
       "    <tr>\n",
       "      <th>11</th>\n",
       "      <td>textmining</td>\n",
       "      <td>19566</td>\n",
       "      <td>19566</td>\n",
       "      <td>382828356</td>\n",
       "      <td>6689886</td>\n",
       "      <td>1.747%</td>\n",
       "      <td>0</td>\n",
       "      <td>204.672557</td>\n",
       "      <td>168.0</td>\n",
       "    </tr>\n",
       "    <tr>\n",
       "      <th>12</th>\n",
       "      <td>textmining_transferred</td>\n",
       "      <td>19566</td>\n",
       "      <td>19566</td>\n",
       "      <td>382828356</td>\n",
       "      <td>7214278</td>\n",
       "      <td>1.884%</td>\n",
       "      <td>0</td>\n",
       "      <td>127.804802</td>\n",
       "      <td>95.0</td>\n",
       "    </tr>\n",
       "    <tr>\n",
       "      <th>13</th>\n",
       "      <td>combined_score</td>\n",
       "      <td>19566</td>\n",
       "      <td>19566</td>\n",
       "      <td>382828356</td>\n",
       "      <td>11759454</td>\n",
       "      <td>3.072%</td>\n",
       "      <td>0</td>\n",
       "      <td>295.806642</td>\n",
       "      <td>217.0</td>\n",
       "    </tr>\n",
       "  </tbody>\n",
       "</table>\n",
       "</div>"
      ],
      "text/plain": [
       "                        name  nrows  ncols       size  n_nonzero density  \\\n",
       "0               neighborhood  19566  19566  382828356          0  0.000%   \n",
       "1   neighborhood_transferred  19566  19566  382828356     404222  0.106%   \n",
       "2                     fusion  19566  19566  382828356      23388  0.006%   \n",
       "3                cooccurence  19566  19566  382828356      60404  0.016%   \n",
       "4                   homology  19566  19566  382828356     217710  0.057%   \n",
       "5               coexpression  19566  19566  382828356    2513002  0.656%   \n",
       "6   coexpression_transferred  19566  19566  382828356    5090144  1.330%   \n",
       "7                experiments  19566  19566  382828356     445816  0.116%   \n",
       "8    experiments_transferred  19566  19566  382828356    4296274  1.122%   \n",
       "9                   database  19566  19566  382828356     706440  0.185%   \n",
       "10      database_transferred  19566  19566  382828356          0  0.000%   \n",
       "11                textmining  19566  19566  382828356    6689886  1.747%   \n",
       "12    textmining_transferred  19566  19566  382828356    7214278  1.884%   \n",
       "13            combined_score  19566  19566  382828356   11759454  3.072%   \n",
       "\n",
       "    n_non_symmetric  nonzero_mean  nonzero_median  \n",
       "0                 0           NaN             NaN  \n",
       "1                 0     93.567302            70.0  \n",
       "2                 0     82.749102             6.0  \n",
       "3                 0    346.419409           361.0  \n",
       "4                 0    676.650379           631.0  \n",
       "5                 0    131.588230            98.0  \n",
       "6                 0     89.584010            62.0  \n",
       "7                 0    341.087009           305.0  \n",
       "8                 0    158.216116           157.0  \n",
       "9                 0    859.364192           900.0  \n",
       "10                0           NaN             NaN  \n",
       "11                0    204.672557           168.0  \n",
       "12                0    127.804802            95.0  \n",
       "13                0    295.806642           217.0  "
      ]
     },
     "execution_count": 8,
     "metadata": {},
     "output_type": "execute_result"
    }
   ],
   "source": [
    "rows = (describe_array(*args) for args in score_arrays.items())\n",
    "channel_info_df = pd.DataFrame(rows)\n",
    "channel_info_df"
   ]
  },
  {
   "cell_type": "markdown",
   "metadata": {},
   "source": [
    "## Score distributions\n",
    "\n",
    "Plot nonzero scores for each evidence channel."
   ]
  },
  {
   "cell_type": "code",
   "execution_count": 9,
   "metadata": {},
   "outputs": [],
   "source": [
    "def plot_score_distribution(array: scipy.sparse.csr_matrix, channel: str=\"\"):\n",
    "    plt.figure(figsize=(8, 2))\n",
    "    plt.hist(array.data, bins = np.arange(0, 1001, 10)) \n",
    "    plt.title(f\"score histogram: {channel}\") \n",
    "    plt.show()"
   ]
  },
  {
   "cell_type": "code",
   "execution_count": 10,
   "metadata": {
    "scrolled": false
   },
   "outputs": [
    {
     "data": {
      "image/png": "[encoded data removed]",
      "text/plain": [
       "<Figure size 576x144 with 1 Axes>"
      ]
     },
     "metadata": {
      "needs_background": "light"
     },
     "output_type": "display_data"
    },
    {
     "data": {
      "image/png": "[encoded data removed]",
      "text/plain": [
       "<Figure size 576x144 with 1 Axes>"
      ]
     },
     "metadata": {
      "needs_background": "light"
     },
     "output_type": "display_data"
    },
    {
     "data": {
      "image/png": "[encoded data removed]",
      "text/plain": [
       "<Figure size 576x144 with 1 Axes>"
      ]
     },
     "metadata": {
      "needs_background": "light"
     },
     "output_type": "display_data"
    },
    {
     "data": {
      "image/png": "[encoded data removed]",
      "text/plain": [
       "<Figure size 576x144 with 1 Axes>"
      ]
     },
     "metadata": {
      "needs_background": "light"
     },
     "output_type": "display_data"
    },
    {
     "data": {
      "image/png": "[encoded data removed]",
      "text/plain": [
       "<Figure size 576x144 with 1 Axes>"
      ]
     },
     "metadata": {
      "needs_background": "light"
     },
     "output_type": "display_data"
    },
    {
     "data": {
      "image/png": "[encoded data removed]",
      "text/plain": [
       "<Figure size 576x144 with 1 Axes>"
      ]
     },
     "metadata": {
      "needs_background": "light"
     },
     "output_type": "display_data"
    },
    {
     "data": {
      "image/png": "[encoded data removed]",
      "text/plain": [
       "<Figure size 576x144 with 1 Axes>"
      ]
     },
     "metadata": {
      "needs_background": "light"
     },
     "output_type": "display_data"
    },
    {
     "data": {
      "image/png": "[encoded data removed]",
      "text/plain": [
       "<Figure size 576x144 with 1 Axes>"
      ]
     },
     "metadata": {
      "needs_background": "light"
     },
     "output_type": "display_data"
    },
    {
     "data": {
      "image/png": "[encoded data removed]",
      "text/plain": [
       "<Figure size 576x144 with 1 Axes>"
      ]
     },
     "metadata": {
      "needs_background": "light"
     },
     "output_type": "display_data"
    },
    {
     "data": {
      "image/png": "[encoded data removed]",
      "text/plain": [
       "<Figure size 576x144 with 1 Axes>"
      ]
     },
     "metadata": {
      "needs_background": "light"
     },
     "output_type": "display_data"
    },
    {
     "data": {
      "image/png": "[encoded data removed]",
      "text/plain": [
       "<Figure size 576x144 with 1 Axes>"
      ]
     },
     "metadata": {
      "needs_background": "light"
     },
     "output_type": "display_data"
    },
    {
     "data": {
      "image/png": "[encoded data removed]",
      "text/plain": [
       "<Figure size 576x144 with 1 Axes>"
      ]
     },
     "metadata": {
      "needs_background": "light"
     },
     "output_type": "display_data"
    }
   ],
   "source": [
    "for channel, array_sparse in score_arrays.items():\n",
    "    if array_sparse.nnz == 0:\n",
    "        # skip plotting distributions with no nonzero values\n",
    "        continue\n",
    "    plot_score_distribution(array_sparse, channel)"
   ]
  },
  {
   "cell_type": "markdown",
   "metadata": {},
   "source": [
    "## Write to disk\n",
    "\n",
    "Save sparse matrices to disk using [compressed npz format](https://docs.scipy.org/doc/scipy/reference/generated/scipy.sparse.save_npz.html), which is space efficifient, but whose reading is limited to `scipy.sparse.load_npz`.\n",
    "\n",
    "Also save the scores to a XZ-compressed CSV file, which is less efficient but more interoperable and widely supported. gz compression is more widely supported but has worse compression ratios and included a timestamp header making for non-deterministic file hashes."
   ]
  },
  {
   "cell_type": "code",
   "execution_count": 11,
   "metadata": {},
   "outputs": [],
   "source": [
    "# ensure preferred_name never contains commas (to play nice with CSV)\n",
    "assert not gene_df.preferred_name.str.contains(\",\").any()"
   ]
  },
  {
   "cell_type": "code",
   "execution_count": 14,
   "metadata": {},
   "outputs": [],
   "source": [
    "def array_to_df(array: np.ndarray):\n",
    "    return pd.DataFrame(\n",
    "        data=array,\n",
    "        columns=gene_df.preferred_name,\n",
    "        index=gene_df.preferred_name,\n",
    "    )"
   ]
  },
  {
   "cell_type": "code",
   "execution_count": 19,
   "metadata": {},
   "outputs": [
    {
     "name": "stdout",
     "output_type": "stream",
     "text": [
      "CPU times: user 51min 25s, sys: 5.46 s, total: 51min 30s\n",
      "Wall time: 51min 31s\n"
     ]
    }
   ],
   "source": [
    "%%time\n",
    "for channel, array_sparse in score_arrays.items():\n",
    "    if array_sparse.nnz == 0:\n",
    "        continue\n",
    "    # save as .sparse.npz\n",
    "    path = f\"data/score-matrices/{channel}.sparse.npz\"\n",
    "    scipy.sparse.save_npz(path, array_sparse, compressed=True)\n",
    "    # save as .csv.xz\n",
    "    path = f\"data/score-matrices/{channel}.csv.xz\"\n",
    "    matrix_df = array_to_df(array_sparse.todense())\n",
    "    matrix_df.to_csv(path, index=False)"
   ]
  },
  {
   "cell_type": "code",
   "execution_count": 20,
   "metadata": {},
   "outputs": [
    {
     "name": "stdout",
     "output_type": "stream",
     "text": [
      "combined_score\n"
     ]
    },
    {
     "data": {
      "text/html": [
       "<div>\n",
       "<style scoped>\n",
       "    .dataframe tbody tr th:only-of-type {\n",
       "        vertical-align: middle;\n",
       "    }\n",
       "\n",
       "    .dataframe tbody tr th {\n",
       "        vertical-align: top;\n",
       "    }\n",
       "\n",
       "    .dataframe thead th {\n",
       "        text-align: right;\n",
       "    }\n",
       "</style>\n",
       "<table border=\"1\" class=\"dataframe\">\n",
       "  <thead>\n",
       "    <tr style=\"text-align: right;\">\n",
       "      <th>preferred_name</th>\n",
       "      <th>ARF5</th>\n",
       "      <th>M6PR</th>\n",
       "      <th>FKBP4</th>\n",
       "      <th>CYP26B1</th>\n",
       "      <th>NDUFAF7</th>\n",
       "    </tr>\n",
       "    <tr>\n",
       "      <th>preferred_name</th>\n",
       "      <th></th>\n",
       "      <th></th>\n",
       "      <th></th>\n",
       "      <th></th>\n",
       "      <th></th>\n",
       "    </tr>\n",
       "  </thead>\n",
       "  <tbody>\n",
       "    <tr>\n",
       "      <th>ARF5</th>\n",
       "      <td>0</td>\n",
       "      <td>161</td>\n",
       "      <td>0</td>\n",
       "      <td>0</td>\n",
       "      <td>0</td>\n",
       "    </tr>\n",
       "    <tr>\n",
       "      <th>M6PR</th>\n",
       "      <td>161</td>\n",
       "      <td>0</td>\n",
       "      <td>0</td>\n",
       "      <td>0</td>\n",
       "      <td>0</td>\n",
       "    </tr>\n",
       "    <tr>\n",
       "      <th>FKBP4</th>\n",
       "      <td>0</td>\n",
       "      <td>0</td>\n",
       "      <td>0</td>\n",
       "      <td>0</td>\n",
       "      <td>0</td>\n",
       "    </tr>\n",
       "  </tbody>\n",
       "</table>\n",
       "</div>"
      ],
      "text/plain": [
       "preferred_name  ARF5  M6PR  FKBP4  CYP26B1  NDUFAF7\n",
       "preferred_name                                     \n",
       "ARF5               0   161      0        0        0\n",
       "M6PR             161     0      0        0        0\n",
       "FKBP4              0     0      0        0        0"
      ]
     },
     "execution_count": 20,
     "metadata": {},
     "output_type": "execute_result"
    }
   ],
   "source": [
    "# Show what matrix_df looks like\n",
    "print(channel)\n",
    "matrix_df.iloc[:3, :5]"
   ]
  }
 ],
 "metadata": {
  "kernelspec": {
   "display_name": "Python 3",
   "language": "python",
   "name": "python3"
  },
  "language_info": {
   "codemirror_mode": {
    "name": "ipython",
    "version": 3
   },
   "file_extension": ".py",
   "mimetype": "text/x-python",
   "name": "python",
   "nbconvert_exporter": "python",
   "pygments_lexer": "ipython3",
   "version": "3.8.2"
  }
 },
 "nbformat": 4,
 "nbformat_minor": 4
}
